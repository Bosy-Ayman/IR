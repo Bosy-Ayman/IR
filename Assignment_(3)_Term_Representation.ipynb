{
  "cells": [
    {
      "cell_type": "markdown",
      "metadata": {
        "id": "view-in-github",
        "colab_type": "text"
      },
      "source": [
        "<a href=\"https://colab.research.google.com/github/Bosy-Ayman/IR/blob/main/Assignment_(3)_Term_Representation.ipynb\" target=\"_parent\"><img src=\"https://colab.research.google.com/assets/colab-badge.svg\" alt=\"Open In Colab\"/></a>"
      ]
    },
    {
      "cell_type": "markdown",
      "metadata": {
        "id": "tXCvR2DCwwZt"
      },
      "source": [
        "#Objective:\n",
        "The objective of this assignment is to gain practical experience in\n",
        "implementing popular word embedding models for information retrieval:\n",
        "Skip-gram, CBOW , and GloVe.\n",
        "\n",
        "\n",
        "# Assignment's Requirment:\n",
        "**a. Skip-gram / CBOW  Model using Gensim Libarary:**\n",
        "\n",
        "Implement the training algorithm (Skip-gram model) using a large corpus of text data of your choice.\n",
        "\n",
        "\n",
        "Experiment with different\n",
        "hyperparameters and analyze their impact on the quality of word embeddings.\n",
        "\n",
        "Compare the performance and characteristics of the CBOW model with the Skip-gram model.\n",
        "\n",
        "**b. GloVe Model  using Flair Libarary:**\n",
        "\n",
        "Choose either the word \"rose\" or \"tie\" to create two different sentences such that they share the same word but with different meanings.\n",
        "\n",
        "Use GloVe to get the word embeddings. Check the similarity between the embeddings of the common word in both sentences when GloVe was used."
      ]
    },
    {
      "cell_type": "code",
      "execution_count": 69,
      "metadata": {
        "colab": {
          "base_uri": "https://localhost:8080/"
        },
        "id": "B-eC3_7F3bV-",
        "outputId": "10ae8bec-9f98-4c0f-f439-0947453aca2f"
      },
      "outputs": [
        {
          "output_type": "stream",
          "name": "stdout",
          "text": [
            "Requirement already satisfied: flair in /usr/local/lib/python3.10/dist-packages (0.13.1)\n",
            "Requirement already satisfied: boto3>=1.20.27 in /usr/local/lib/python3.10/dist-packages (from flair) (1.34.96)\n",
            "Requirement already satisfied: bpemb>=0.3.2 in /usr/local/lib/python3.10/dist-packages (from flair) (0.3.5)\n",
            "Requirement already satisfied: conllu>=4.0 in /usr/local/lib/python3.10/dist-packages (from flair) (4.5.3)\n",
            "Requirement already satisfied: deprecated>=1.2.13 in /usr/local/lib/python3.10/dist-packages (from flair) (1.2.14)\n",
            "Requirement already satisfied: ftfy>=6.1.0 in /usr/local/lib/python3.10/dist-packages (from flair) (6.2.0)\n",
            "Requirement already satisfied: gdown>=4.4.0 in /usr/local/lib/python3.10/dist-packages (from flair) (5.1.0)\n",
            "Requirement already satisfied: gensim>=4.2.0 in /usr/local/lib/python3.10/dist-packages (from flair) (4.3.2)\n",
            "Requirement already satisfied: huggingface-hub>=0.10.0 in /usr/local/lib/python3.10/dist-packages (from flair) (0.20.3)\n",
            "Requirement already satisfied: janome>=0.4.2 in /usr/local/lib/python3.10/dist-packages (from flair) (0.5.0)\n",
            "Requirement already satisfied: langdetect>=1.0.9 in /usr/local/lib/python3.10/dist-packages (from flair) (1.0.9)\n",
            "Requirement already satisfied: lxml>=4.8.0 in /usr/local/lib/python3.10/dist-packages (from flair) (4.9.4)\n",
            "Requirement already satisfied: matplotlib>=2.2.3 in /usr/local/lib/python3.10/dist-packages (from flair) (3.7.1)\n",
            "Requirement already satisfied: more-itertools>=8.13.0 in /usr/local/lib/python3.10/dist-packages (from flair) (10.1.0)\n",
            "Requirement already satisfied: mpld3>=0.3 in /usr/local/lib/python3.10/dist-packages (from flair) (0.5.10)\n",
            "Requirement already satisfied: pptree>=3.1 in /usr/local/lib/python3.10/dist-packages (from flair) (3.1)\n",
            "Requirement already satisfied: python-dateutil>=2.8.2 in /usr/local/lib/python3.10/dist-packages (from flair) (2.8.2)\n",
            "Requirement already satisfied: pytorch-revgrad>=0.2.0 in /usr/local/lib/python3.10/dist-packages (from flair) (0.2.0)\n",
            "Requirement already satisfied: regex>=2022.1.18 in /usr/local/lib/python3.10/dist-packages (from flair) (2023.12.25)\n",
            "Requirement already satisfied: scikit-learn>=1.0.2 in /usr/local/lib/python3.10/dist-packages (from flair) (1.2.2)\n",
            "Requirement already satisfied: segtok>=1.5.11 in /usr/local/lib/python3.10/dist-packages (from flair) (1.5.11)\n",
            "Requirement already satisfied: sqlitedict>=2.0.0 in /usr/local/lib/python3.10/dist-packages (from flair) (2.1.0)\n",
            "Requirement already satisfied: tabulate>=0.8.10 in /usr/local/lib/python3.10/dist-packages (from flair) (0.9.0)\n",
            "Requirement already satisfied: torch!=1.8,>=1.5.0 in /usr/local/lib/python3.10/dist-packages (from flair) (2.2.1+cu121)\n",
            "Requirement already satisfied: tqdm>=4.63.0 in /usr/local/lib/python3.10/dist-packages (from flair) (4.66.2)\n",
            "Requirement already satisfied: transformer-smaller-training-vocab>=0.2.3 in /usr/local/lib/python3.10/dist-packages (from flair) (0.4.0)\n",
            "Requirement already satisfied: transformers[sentencepiece]<5.0.0,>=4.18.0 in /usr/local/lib/python3.10/dist-packages (from flair) (4.40.1)\n",
            "Requirement already satisfied: urllib3<2.0.0,>=1.0.0 in /usr/local/lib/python3.10/dist-packages (from flair) (1.26.18)\n",
            "Requirement already satisfied: wikipedia-api>=0.5.7 in /usr/local/lib/python3.10/dist-packages (from flair) (0.6.0)\n",
            "Requirement already satisfied: semver<4.0.0,>=3.0.0 in /usr/local/lib/python3.10/dist-packages (from flair) (3.0.2)\n",
            "Requirement already satisfied: botocore<1.35.0,>=1.34.96 in /usr/local/lib/python3.10/dist-packages (from boto3>=1.20.27->flair) (1.34.96)\n",
            "Requirement already satisfied: jmespath<2.0.0,>=0.7.1 in /usr/local/lib/python3.10/dist-packages (from boto3>=1.20.27->flair) (1.0.1)\n",
            "Requirement already satisfied: s3transfer<0.11.0,>=0.10.0 in /usr/local/lib/python3.10/dist-packages (from boto3>=1.20.27->flair) (0.10.1)\n",
            "Requirement already satisfied: numpy in /usr/local/lib/python3.10/dist-packages (from bpemb>=0.3.2->flair) (1.25.2)\n",
            "Requirement already satisfied: requests in /usr/local/lib/python3.10/dist-packages (from bpemb>=0.3.2->flair) (2.31.0)\n",
            "Requirement already satisfied: sentencepiece in /usr/local/lib/python3.10/dist-packages (from bpemb>=0.3.2->flair) (0.1.99)\n",
            "Requirement already satisfied: wrapt<2,>=1.10 in /usr/local/lib/python3.10/dist-packages (from deprecated>=1.2.13->flair) (1.14.1)\n",
            "Requirement already satisfied: wcwidth<0.3.0,>=0.2.12 in /usr/local/lib/python3.10/dist-packages (from ftfy>=6.1.0->flair) (0.2.13)\n",
            "Requirement already satisfied: beautifulsoup4 in /usr/local/lib/python3.10/dist-packages (from gdown>=4.4.0->flair) (4.12.3)\n",
            "Requirement already satisfied: filelock in /usr/local/lib/python3.10/dist-packages (from gdown>=4.4.0->flair) (3.14.0)\n",
            "Requirement already satisfied: scipy>=1.7.0 in /usr/local/lib/python3.10/dist-packages (from gensim>=4.2.0->flair) (1.11.4)\n",
            "Requirement already satisfied: smart-open>=1.8.1 in /usr/local/lib/python3.10/dist-packages (from gensim>=4.2.0->flair) (6.4.0)\n",
            "Requirement already satisfied: fsspec>=2023.5.0 in /usr/local/lib/python3.10/dist-packages (from huggingface-hub>=0.10.0->flair) (2023.6.0)\n",
            "Requirement already satisfied: pyyaml>=5.1 in /usr/local/lib/python3.10/dist-packages (from huggingface-hub>=0.10.0->flair) (6.0.1)\n",
            "Requirement already satisfied: typing-extensions>=3.7.4.3 in /usr/local/lib/python3.10/dist-packages (from huggingface-hub>=0.10.0->flair) (4.11.0)\n",
            "Requirement already satisfied: packaging>=20.9 in /usr/local/lib/python3.10/dist-packages (from huggingface-hub>=0.10.0->flair) (24.0)\n",
            "Requirement already satisfied: six in /usr/local/lib/python3.10/dist-packages (from langdetect>=1.0.9->flair) (1.16.0)\n",
            "Requirement already satisfied: contourpy>=1.0.1 in /usr/local/lib/python3.10/dist-packages (from matplotlib>=2.2.3->flair) (1.2.1)\n",
            "Requirement already satisfied: cycler>=0.10 in /usr/local/lib/python3.10/dist-packages (from matplotlib>=2.2.3->flair) (0.12.1)\n",
            "Requirement already satisfied: fonttools>=4.22.0 in /usr/local/lib/python3.10/dist-packages (from matplotlib>=2.2.3->flair) (4.51.0)\n",
            "Requirement already satisfied: kiwisolver>=1.0.1 in /usr/local/lib/python3.10/dist-packages (from matplotlib>=2.2.3->flair) (1.4.5)\n",
            "Requirement already satisfied: pillow>=6.2.0 in /usr/local/lib/python3.10/dist-packages (from matplotlib>=2.2.3->flair) (9.4.0)\n",
            "Requirement already satisfied: pyparsing>=2.3.1 in /usr/local/lib/python3.10/dist-packages (from matplotlib>=2.2.3->flair) (3.1.2)\n",
            "Requirement already satisfied: jinja2 in /usr/local/lib/python3.10/dist-packages (from mpld3>=0.3->flair) (3.1.3)\n",
            "Requirement already satisfied: joblib>=1.1.1 in /usr/local/lib/python3.10/dist-packages (from scikit-learn>=1.0.2->flair) (1.4.0)\n",
            "Requirement already satisfied: threadpoolctl>=2.0.0 in /usr/local/lib/python3.10/dist-packages (from scikit-learn>=1.0.2->flair) (3.5.0)\n",
            "Requirement already satisfied: sympy in /usr/local/lib/python3.10/dist-packages (from torch!=1.8,>=1.5.0->flair) (1.12)\n",
            "Requirement already satisfied: networkx in /usr/local/lib/python3.10/dist-packages (from torch!=1.8,>=1.5.0->flair) (3.3)\n",
            "Requirement already satisfied: nvidia-cuda-nvrtc-cu12==12.1.105 in /usr/local/lib/python3.10/dist-packages (from torch!=1.8,>=1.5.0->flair) (12.1.105)\n",
            "Requirement already satisfied: nvidia-cuda-runtime-cu12==12.1.105 in /usr/local/lib/python3.10/dist-packages (from torch!=1.8,>=1.5.0->flair) (12.1.105)\n",
            "Requirement already satisfied: nvidia-cuda-cupti-cu12==12.1.105 in /usr/local/lib/python3.10/dist-packages (from torch!=1.8,>=1.5.0->flair) (12.1.105)\n",
            "Requirement already satisfied: nvidia-cudnn-cu12==8.9.2.26 in /usr/local/lib/python3.10/dist-packages (from torch!=1.8,>=1.5.0->flair) (8.9.2.26)\n",
            "Requirement already satisfied: nvidia-cublas-cu12==12.1.3.1 in /usr/local/lib/python3.10/dist-packages (from torch!=1.8,>=1.5.0->flair) (12.1.3.1)\n",
            "Requirement already satisfied: nvidia-cufft-cu12==11.0.2.54 in /usr/local/lib/python3.10/dist-packages (from torch!=1.8,>=1.5.0->flair) (11.0.2.54)\n",
            "Requirement already satisfied: nvidia-curand-cu12==10.3.2.106 in /usr/local/lib/python3.10/dist-packages (from torch!=1.8,>=1.5.0->flair) (10.3.2.106)\n",
            "Requirement already satisfied: nvidia-cusolver-cu12==11.4.5.107 in /usr/local/lib/python3.10/dist-packages (from torch!=1.8,>=1.5.0->flair) (11.4.5.107)\n",
            "Requirement already satisfied: nvidia-cusparse-cu12==12.1.0.106 in /usr/local/lib/python3.10/dist-packages (from torch!=1.8,>=1.5.0->flair) (12.1.0.106)\n",
            "Requirement already satisfied: nvidia-nccl-cu12==2.19.3 in /usr/local/lib/python3.10/dist-packages (from torch!=1.8,>=1.5.0->flair) (2.19.3)\n",
            "Requirement already satisfied: nvidia-nvtx-cu12==12.1.105 in /usr/local/lib/python3.10/dist-packages (from torch!=1.8,>=1.5.0->flair) (12.1.105)\n",
            "Requirement already satisfied: triton==2.2.0 in /usr/local/lib/python3.10/dist-packages (from torch!=1.8,>=1.5.0->flair) (2.2.0)\n",
            "Requirement already satisfied: nvidia-nvjitlink-cu12 in /usr/local/lib/python3.10/dist-packages (from nvidia-cusolver-cu12==11.4.5.107->torch!=1.8,>=1.5.0->flair) (12.4.127)\n",
            "Requirement already satisfied: tokenizers<0.20,>=0.19 in /usr/local/lib/python3.10/dist-packages (from transformers[sentencepiece]<5.0.0,>=4.18.0->flair) (0.19.1)\n",
            "Requirement already satisfied: safetensors>=0.4.1 in /usr/local/lib/python3.10/dist-packages (from transformers[sentencepiece]<5.0.0,>=4.18.0->flair) (0.4.3)\n",
            "Requirement already satisfied: protobuf in /usr/local/lib/python3.10/dist-packages (from transformers[sentencepiece]<5.0.0,>=4.18.0->flair) (3.20.3)\n",
            "Requirement already satisfied: accelerate>=0.21.0 in /usr/local/lib/python3.10/dist-packages (from transformers[sentencepiece]<5.0.0,>=4.18.0->flair) (0.29.3)\n",
            "Requirement already satisfied: soupsieve>1.2 in /usr/local/lib/python3.10/dist-packages (from beautifulsoup4->gdown>=4.4.0->flair) (2.5)\n",
            "Requirement already satisfied: MarkupSafe>=2.0 in /usr/local/lib/python3.10/dist-packages (from jinja2->mpld3>=0.3->flair) (2.1.5)\n",
            "Requirement already satisfied: charset-normalizer<4,>=2 in /usr/local/lib/python3.10/dist-packages (from requests->bpemb>=0.3.2->flair) (3.3.2)\n",
            "Requirement already satisfied: idna<4,>=2.5 in /usr/local/lib/python3.10/dist-packages (from requests->bpemb>=0.3.2->flair) (3.7)\n",
            "Requirement already satisfied: certifi>=2017.4.17 in /usr/local/lib/python3.10/dist-packages (from requests->bpemb>=0.3.2->flair) (2024.2.2)\n",
            "Requirement already satisfied: PySocks!=1.5.7,>=1.5.6 in /usr/local/lib/python3.10/dist-packages (from requests->bpemb>=0.3.2->flair) (1.7.1)\n",
            "Requirement already satisfied: mpmath>=0.19 in /usr/local/lib/python3.10/dist-packages (from sympy->torch!=1.8,>=1.5.0->flair) (1.3.0)\n",
            "Requirement already satisfied: psutil in /usr/local/lib/python3.10/dist-packages (from accelerate>=0.21.0->transformers[sentencepiece]<5.0.0,>=4.18.0->flair) (5.9.5)\n"
          ]
        }
      ],
      "source": [
        "#install FLAIR\n",
        "!pip install flair"
      ]
    },
    {
      "cell_type": "markdown",
      "metadata": {
        "id": "VccsBC0n0HM5"
      },
      "source": []
    },
    {
      "cell_type": "code",
      "execution_count": 70,
      "metadata": {
        "id": "zKzpirv2xTnh"
      },
      "outputs": [],
      "source": [
        "from gensim.models import Word2Vec\n",
        "from gensim.models import KeyedVectors\n",
        "import pandas as pd\n",
        "import gensim\n",
        "from gensim.models import Word2Vec\n",
        "from scipy import spatial"
      ]
    },
    {
      "cell_type": "code",
      "execution_count": 71,
      "metadata": {
        "id": "Tq6Tt1eZ5Q8C"
      },
      "outputs": [],
      "source": [
        "from flair.data import Sentence # represent a sentence\n",
        "from flair.embeddings import WordEmbeddings\n",
        "\n",
        "from termcolor import colored #add color to text output\n",
        "\n",
        "# initialize embedding by specifying which model we want to use\n",
        "glove_embedding = WordEmbeddings('glove')"
      ]
    },
    {
      "cell_type": "code",
      "execution_count": 71,
      "metadata": {
        "id": "0WB3ioKA8COe"
      },
      "outputs": [],
      "source": []
    },
    {
      "cell_type": "markdown",
      "metadata": {
        "id": "KLurDpON0HrR"
      },
      "source": [
        "# a. Skip-gram / CBOW  Model using Gensim Library"
      ]
    },
    {
      "cell_type": "code",
      "execution_count": 72,
      "metadata": {
        "colab": {
          "base_uri": "https://localhost:8080/",
          "height": 206
        },
        "id": "shDKo021zy71",
        "outputId": "317c9698-dda0-4246-a58c-333e6c9e4c71"
      },
      "outputs": [
        {
          "output_type": "execute_result",
          "data": {
            "text/plain": [
              "   Tweet_ID  \\\n",
              "0         1   \n",
              "1         2   \n",
              "2         3   \n",
              "3         4   \n",
              "4         5   \n",
              "\n",
              "                                                                                                                                                    Text  \n",
              "0  Party least receive say or single. Prevent prevent husband affect. May himself cup style evening protect. Effect another themselves stage perform....  \n",
              "1  Hotel still Congress may member staff. Media draw buy fly. Identify on another turn minute would.\\nLocal subject way believe which question some m...  \n",
              "2  Nice be her debate industry that year. Film where generation push discover partner level.\\nNearly money store style may enjoy. Kid discuss blue sa...  \n",
              "3  Laugh explain situation career occur serious. Five particular important size.\\nCatch continue east teach dark discussion spring. Then candidate fi...  \n",
              "4  Involve sense former often approach government. While season family term close do number. Cost through second image indeed.\\nProduction thousand w...  "
            ],
            "text/html": [
              "\n",
              "  <div id=\"df-db5ba39a-714c-4822-974a-579bc8490a2b\" class=\"colab-df-container\">\n",
              "    <div>\n",
              "<style scoped>\n",
              "    .dataframe tbody tr th:only-of-type {\n",
              "        vertical-align: middle;\n",
              "    }\n",
              "\n",
              "    .dataframe tbody tr th {\n",
              "        vertical-align: top;\n",
              "    }\n",
              "\n",
              "    .dataframe thead th {\n",
              "        text-align: right;\n",
              "    }\n",
              "</style>\n",
              "<table border=\"1\" class=\"dataframe\">\n",
              "  <thead>\n",
              "    <tr style=\"text-align: right;\">\n",
              "      <th></th>\n",
              "      <th>Tweet_ID</th>\n",
              "      <th>Text</th>\n",
              "    </tr>\n",
              "  </thead>\n",
              "  <tbody>\n",
              "    <tr>\n",
              "      <th>0</th>\n",
              "      <td>1</td>\n",
              "      <td>Party least receive say or single. Prevent prevent husband affect. May himself cup style evening protect. Effect another themselves stage perform....</td>\n",
              "    </tr>\n",
              "    <tr>\n",
              "      <th>1</th>\n",
              "      <td>2</td>\n",
              "      <td>Hotel still Congress may member staff. Media draw buy fly. Identify on another turn minute would.\\nLocal subject way believe which question some m...</td>\n",
              "    </tr>\n",
              "    <tr>\n",
              "      <th>2</th>\n",
              "      <td>3</td>\n",
              "      <td>Nice be her debate industry that year. Film where generation push discover partner level.\\nNearly money store style may enjoy. Kid discuss blue sa...</td>\n",
              "    </tr>\n",
              "    <tr>\n",
              "      <th>3</th>\n",
              "      <td>4</td>\n",
              "      <td>Laugh explain situation career occur serious. Five particular important size.\\nCatch continue east teach dark discussion spring. Then candidate fi...</td>\n",
              "    </tr>\n",
              "    <tr>\n",
              "      <th>4</th>\n",
              "      <td>5</td>\n",
              "      <td>Involve sense former often approach government. While season family term close do number. Cost through second image indeed.\\nProduction thousand w...</td>\n",
              "    </tr>\n",
              "  </tbody>\n",
              "</table>\n",
              "</div>\n",
              "    <div class=\"colab-df-buttons\">\n",
              "\n",
              "  <div class=\"colab-df-container\">\n",
              "    <button class=\"colab-df-convert\" onclick=\"convertToInteractive('df-db5ba39a-714c-4822-974a-579bc8490a2b')\"\n",
              "            title=\"Convert this dataframe to an interactive table.\"\n",
              "            style=\"display:none;\">\n",
              "\n",
              "  <svg xmlns=\"http://www.w3.org/2000/svg\" height=\"24px\" viewBox=\"0 -960 960 960\">\n",
              "    <path d=\"M120-120v-720h720v720H120Zm60-500h600v-160H180v160Zm220 220h160v-160H400v160Zm0 220h160v-160H400v160ZM180-400h160v-160H180v160Zm440 0h160v-160H620v160ZM180-180h160v-160H180v160Zm440 0h160v-160H620v160Z\"/>\n",
              "  </svg>\n",
              "    </button>\n",
              "\n",
              "  <style>\n",
              "    .colab-df-container {\n",
              "      display:flex;\n",
              "      gap: 12px;\n",
              "    }\n",
              "\n",
              "    .colab-df-convert {\n",
              "      background-color: #E8F0FE;\n",
              "      border: none;\n",
              "      border-radius: 50%;\n",
              "      cursor: pointer;\n",
              "      display: none;\n",
              "      fill: #1967D2;\n",
              "      height: 32px;\n",
              "      padding: 0 0 0 0;\n",
              "      width: 32px;\n",
              "    }\n",
              "\n",
              "    .colab-df-convert:hover {\n",
              "      background-color: #E2EBFA;\n",
              "      box-shadow: 0px 1px 2px rgba(60, 64, 67, 0.3), 0px 1px 3px 1px rgba(60, 64, 67, 0.15);\n",
              "      fill: #174EA6;\n",
              "    }\n",
              "\n",
              "    .colab-df-buttons div {\n",
              "      margin-bottom: 4px;\n",
              "    }\n",
              "\n",
              "    [theme=dark] .colab-df-convert {\n",
              "      background-color: #3B4455;\n",
              "      fill: #D2E3FC;\n",
              "    }\n",
              "\n",
              "    [theme=dark] .colab-df-convert:hover {\n",
              "      background-color: #434B5C;\n",
              "      box-shadow: 0px 1px 3px 1px rgba(0, 0, 0, 0.15);\n",
              "      filter: drop-shadow(0px 1px 2px rgba(0, 0, 0, 0.3));\n",
              "      fill: #FFFFFF;\n",
              "    }\n",
              "  </style>\n",
              "\n",
              "    <script>\n",
              "      const buttonEl =\n",
              "        document.querySelector('#df-db5ba39a-714c-4822-974a-579bc8490a2b button.colab-df-convert');\n",
              "      buttonEl.style.display =\n",
              "        google.colab.kernel.accessAllowed ? 'block' : 'none';\n",
              "\n",
              "      async function convertToInteractive(key) {\n",
              "        const element = document.querySelector('#df-db5ba39a-714c-4822-974a-579bc8490a2b');\n",
              "        const dataTable =\n",
              "          await google.colab.kernel.invokeFunction('convertToInteractive',\n",
              "                                                    [key], {});\n",
              "        if (!dataTable) return;\n",
              "\n",
              "        const docLinkHtml = 'Like what you see? Visit the ' +\n",
              "          '<a target=\"_blank\" href=https://colab.research.google.com/notebooks/data_table.ipynb>data table notebook</a>'\n",
              "          + ' to learn more about interactive tables.';\n",
              "        element.innerHTML = '';\n",
              "        dataTable['output_type'] = 'display_data';\n",
              "        await google.colab.output.renderOutput(dataTable, element);\n",
              "        const docLink = document.createElement('div');\n",
              "        docLink.innerHTML = docLinkHtml;\n",
              "        element.appendChild(docLink);\n",
              "      }\n",
              "    </script>\n",
              "  </div>\n",
              "\n",
              "\n",
              "<div id=\"df-17a255b4-537c-468c-a688-9eaa9fbafea7\">\n",
              "  <button class=\"colab-df-quickchart\" onclick=\"quickchart('df-17a255b4-537c-468c-a688-9eaa9fbafea7')\"\n",
              "            title=\"Suggest charts\"\n",
              "            style=\"display:none;\">\n",
              "\n",
              "<svg xmlns=\"http://www.w3.org/2000/svg\" height=\"24px\"viewBox=\"0 0 24 24\"\n",
              "     width=\"24px\">\n",
              "    <g>\n",
              "        <path d=\"M19 3H5c-1.1 0-2 .9-2 2v14c0 1.1.9 2 2 2h14c1.1 0 2-.9 2-2V5c0-1.1-.9-2-2-2zM9 17H7v-7h2v7zm4 0h-2V7h2v10zm4 0h-2v-4h2v4z\"/>\n",
              "    </g>\n",
              "</svg>\n",
              "  </button>\n",
              "\n",
              "<style>\n",
              "  .colab-df-quickchart {\n",
              "      --bg-color: #E8F0FE;\n",
              "      --fill-color: #1967D2;\n",
              "      --hover-bg-color: #E2EBFA;\n",
              "      --hover-fill-color: #174EA6;\n",
              "      --disabled-fill-color: #AAA;\n",
              "      --disabled-bg-color: #DDD;\n",
              "  }\n",
              "\n",
              "  [theme=dark] .colab-df-quickchart {\n",
              "      --bg-color: #3B4455;\n",
              "      --fill-color: #D2E3FC;\n",
              "      --hover-bg-color: #434B5C;\n",
              "      --hover-fill-color: #FFFFFF;\n",
              "      --disabled-bg-color: #3B4455;\n",
              "      --disabled-fill-color: #666;\n",
              "  }\n",
              "\n",
              "  .colab-df-quickchart {\n",
              "    background-color: var(--bg-color);\n",
              "    border: none;\n",
              "    border-radius: 50%;\n",
              "    cursor: pointer;\n",
              "    display: none;\n",
              "    fill: var(--fill-color);\n",
              "    height: 32px;\n",
              "    padding: 0;\n",
              "    width: 32px;\n",
              "  }\n",
              "\n",
              "  .colab-df-quickchart:hover {\n",
              "    background-color: var(--hover-bg-color);\n",
              "    box-shadow: 0 1px 2px rgba(60, 64, 67, 0.3), 0 1px 3px 1px rgba(60, 64, 67, 0.15);\n",
              "    fill: var(--button-hover-fill-color);\n",
              "  }\n",
              "\n",
              "  .colab-df-quickchart-complete:disabled,\n",
              "  .colab-df-quickchart-complete:disabled:hover {\n",
              "    background-color: var(--disabled-bg-color);\n",
              "    fill: var(--disabled-fill-color);\n",
              "    box-shadow: none;\n",
              "  }\n",
              "\n",
              "  .colab-df-spinner {\n",
              "    border: 2px solid var(--fill-color);\n",
              "    border-color: transparent;\n",
              "    border-bottom-color: var(--fill-color);\n",
              "    animation:\n",
              "      spin 1s steps(1) infinite;\n",
              "  }\n",
              "\n",
              "  @keyframes spin {\n",
              "    0% {\n",
              "      border-color: transparent;\n",
              "      border-bottom-color: var(--fill-color);\n",
              "      border-left-color: var(--fill-color);\n",
              "    }\n",
              "    20% {\n",
              "      border-color: transparent;\n",
              "      border-left-color: var(--fill-color);\n",
              "      border-top-color: var(--fill-color);\n",
              "    }\n",
              "    30% {\n",
              "      border-color: transparent;\n",
              "      border-left-color: var(--fill-color);\n",
              "      border-top-color: var(--fill-color);\n",
              "      border-right-color: var(--fill-color);\n",
              "    }\n",
              "    40% {\n",
              "      border-color: transparent;\n",
              "      border-right-color: var(--fill-color);\n",
              "      border-top-color: var(--fill-color);\n",
              "    }\n",
              "    60% {\n",
              "      border-color: transparent;\n",
              "      border-right-color: var(--fill-color);\n",
              "    }\n",
              "    80% {\n",
              "      border-color: transparent;\n",
              "      border-right-color: var(--fill-color);\n",
              "      border-bottom-color: var(--fill-color);\n",
              "    }\n",
              "    90% {\n",
              "      border-color: transparent;\n",
              "      border-bottom-color: var(--fill-color);\n",
              "    }\n",
              "  }\n",
              "</style>\n",
              "\n",
              "  <script>\n",
              "    async function quickchart(key) {\n",
              "      const quickchartButtonEl =\n",
              "        document.querySelector('#' + key + ' button');\n",
              "      quickchartButtonEl.disabled = true;  // To prevent multiple clicks.\n",
              "      quickchartButtonEl.classList.add('colab-df-spinner');\n",
              "      try {\n",
              "        const charts = await google.colab.kernel.invokeFunction(\n",
              "            'suggestCharts', [key], {});\n",
              "      } catch (error) {\n",
              "        console.error('Error during call to suggestCharts:', error);\n",
              "      }\n",
              "      quickchartButtonEl.classList.remove('colab-df-spinner');\n",
              "      quickchartButtonEl.classList.add('colab-df-quickchart-complete');\n",
              "    }\n",
              "    (() => {\n",
              "      let quickchartButtonEl =\n",
              "        document.querySelector('#df-17a255b4-537c-468c-a688-9eaa9fbafea7 button');\n",
              "      quickchartButtonEl.style.display =\n",
              "        google.colab.kernel.accessAllowed ? 'block' : 'none';\n",
              "    })();\n",
              "  </script>\n",
              "</div>\n",
              "\n",
              "    </div>\n",
              "  </div>\n"
            ],
            "application/vnd.google.colaboratory.intrinsic+json": {
              "type": "dataframe",
              "variable_name": "df",
              "summary": "{\n  \"name\": \"df\",\n  \"rows\": 10000,\n  \"fields\": [\n    {\n      \"column\": \"Tweet_ID\",\n      \"properties\": {\n        \"dtype\": \"number\",\n        \"std\": 2886,\n        \"min\": 1,\n        \"max\": 10000,\n        \"num_unique_values\": 10000,\n        \"samples\": [\n          6253,\n          4685,\n          1732\n        ],\n        \"semantic_type\": \"\",\n        \"description\": \"\"\n      }\n    },\n    {\n      \"column\": \"Text\",\n      \"properties\": {\n        \"dtype\": \"string\",\n        \"num_unique_values\": 10000,\n        \"samples\": [\n          \"Just specific color. Hour federal open act. Particular visit wide another family sea.\\nArt security win great. School discover war hit road population.\",\n          \"Move memory join.\\nIndeed model quite adult when nearly. Safe impact argue detail. Eye not piece anything reach.\\nNews everyone state image believe allow. Strategy hear sure really author.\\nSource paper body manage. Plan because police put.\",\n          \"Meeting recently bed force after difference.\\nBoth herself full note management decade. Wait outside medical bill represent.\\nStudy western prepare single so and. Important audience first not find. Strategy either fund same skin collection hour.\"\n        ],\n        \"semantic_type\": \"\",\n        \"description\": \"\"\n      }\n    }\n  ]\n}"
            }
          },
          "metadata": {},
          "execution_count": 72
        }
      ],
      "source": [
        "df = pd.read_csv('/content/twitter_dataset (2).csv')\n",
        "df.head()"
      ]
    },
    {
      "cell_type": "code",
      "execution_count": 73,
      "metadata": {
        "id": "Z5iZKecq8M8l"
      },
      "outputs": [],
      "source": [
        "sentence_list = []\n",
        "for index, row in df.iterrows():\n",
        "    text = row['Text']\n",
        "    sentence = Sentence(text)\n",
        "    sentence_list.append(sentence)\n"
      ]
    },
    {
      "cell_type": "code",
      "execution_count": 74,
      "metadata": {
        "colab": {
          "base_uri": "https://localhost:8080/"
        },
        "id": "dTKSOWKY8Opu",
        "outputId": "9b9264f2-5dc0-4e8a-a1aa-d57073562d01"
      },
      "outputs": [
        {
          "output_type": "stream",
          "name": "stderr",
          "text": [
            "[nltk_data] Downloading package punkt to /root/nltk_data...\n",
            "[nltk_data]   Package punkt is already up-to-date!\n",
            "[nltk_data] Downloading package stopwords to /root/nltk_data...\n",
            "[nltk_data]   Package stopwords is already up-to-date!\n"
          ]
        }
      ],
      "source": [
        "import pandas as pd\n",
        "from gensim.models import Word2Vec\n",
        "from nltk.tokenize import word_tokenize\n",
        "from nltk.corpus import stopwords\n",
        "import nltk\n",
        "nltk.download('punkt')\n",
        "nltk.download('stopwords')\n",
        "\n",
        "# Load the CSV file\n",
        "df = pd.read_csv('/content/twitter_dataset (2).csv')\n"
      ]
    },
    {
      "cell_type": "code",
      "source": [
        "sentences = [word_tokenize(tweet.lower()) for tweet in df['Text']]\n",
        "stop_words = set(stopwords.words('english'))\n",
        "sentences = [[word for word in sentence if word not in stop_words] for sentence in sentences]\n",
        "\n",
        "model = Word2Vec(sentences=sentences,\n",
        "                 sg=1,              # Indicates the Skip-gram model\n",
        "                 vector_size=100,   # Each word will be represented as a vector of 100 dimensions\n",
        "                 window=2,          # Size of the context window (model will consider two words to the left/right of the target word)\n",
        "                 min_count=1,       # Minimum frequency count of words required to be included in the vocabulary\n",
        "                 workers=4,         # Utilizing multiple CPU cores\n",
        "                 epochs=20)         # Number of iterations over the corpus (epochs)\n",
        "\n",
        "word_embeddings = model.wv\n",
        "print(word_embeddings['party'])\n"
      ],
      "metadata": {
        "id": "pWf8BN-DnfnE",
        "outputId": "6f90639e-37c6-4716-a38e-f385356b219d",
        "colab": {
          "base_uri": "https://localhost:8080/"
        }
      },
      "execution_count": 75,
      "outputs": [
        {
          "output_type": "stream",
          "name": "stdout",
          "text": [
            "[-0.22683775  0.2182583   0.2926825   0.5055522  -0.08856519  0.0874006\n",
            "  0.12288462 -0.1399819  -0.28057373 -0.02035831 -0.15872064 -0.46922153\n",
            "  0.18242688  0.09030382 -0.12382513 -0.01707836  0.05956579 -0.16294993\n",
            " -0.09502144 -0.49716672  0.43930364  0.34270528  0.14791672 -0.23497978\n",
            " -0.3049218  -0.0542582  -0.42367712  0.02894799  0.31370208  0.14484785\n",
            " -0.07302731  0.08523177  0.07438986 -0.09783047 -0.19768862 -0.03004237\n",
            "  0.08894357 -0.07823889 -0.0091505  -0.1841218  -0.48894605  0.12340184\n",
            " -0.39107838  0.12193912  0.1640068  -0.363533   -0.02346594 -0.21154469\n",
            "  0.00852326 -0.12792711 -0.17689666  0.14973143 -0.11548445 -0.12964123\n",
            " -0.23888247  0.01175362 -0.20547694 -0.01734245  0.24121162 -0.24950263\n",
            "  0.13978246 -0.12203284 -0.34663266  0.13930176 -0.37118828  0.08714594\n",
            "  0.43834853  0.27831665 -0.12842563  0.11857757  0.09859692 -0.11854866\n",
            "  0.30077752 -0.28461844 -0.03670403  0.08141619  0.12774009  0.05200681\n",
            " -0.14563595  0.4473571   0.07837964 -0.26990706  0.25763047  0.26609126\n",
            "  0.37297124 -0.01292564  0.14051186  0.03220635 -0.23598869 -0.08049712\n",
            " -0.08133847  0.2308718   0.02483386  0.04395725 -0.07974774  0.1700328\n",
            "  0.10468031 -0.17552866 -0.51557636  0.2638862 ]\n"
          ]
        }
      ]
    },
    {
      "cell_type": "code",
      "execution_count": 76,
      "metadata": {
        "id": "vH-87KK78njl"
      },
      "outputs": [],
      "source": [
        "skip_gram_model = Word2Vec(sentences=sentences,\n",
        "                           sg=1,              # Indicates the Skip-gram model\n",
        "                           vector_size=100,   # Each word will be represented as a vector of 100 dimensions\n",
        "                           window=5,          # Size of the context window (model will consider five words to the left/right of the target word)\n",
        "                           min_count=0,       # Lower minimum frequency count to include more words in the vocabulary\n",
        "                           workers=4,         # Utilizing multiple CPU cores\n",
        "                           epochs=20)         # Number of iterations over the corpus (epochs)\n"
      ]
    },
    {
      "cell_type": "markdown",
      "metadata": {
        "id": "BlNwrViDBlcj"
      },
      "source": [
        "# **Word Similarity**\n"
      ]
    },
    {
      "cell_type": "code",
      "execution_count": 77,
      "metadata": {
        "colab": {
          "base_uri": "https://localhost:8080/"
        },
        "id": "_6PzShPVCEYf",
        "outputId": "3fb1a60e-10bf-482c-9415-eef4e78ac2dd"
      },
      "outputs": [
        {
          "output_type": "execute_result",
          "data": {
            "text/plain": [
              "[('information', 0.4375090003013611),\n",
              " ('strong', 0.3916800320148468),\n",
              " ('painting', 0.38238534331321716),\n",
              " ('everyone', 0.37348809838294983),\n",
              " ('seem', 0.3702261447906494),\n",
              " ('increase', 0.36771634221076965),\n",
              " ('agree', 0.34971004724502563),\n",
              " ('great', 0.34173569083213806),\n",
              " ('easy', 0.3390679657459259),\n",
              " ('.', 0.33716365694999695)]"
            ]
          },
          "metadata": {},
          "execution_count": 77
        }
      ],
      "source": [
        "skip_gram_model.wv.most_similar(positive=[ \"media\"])\n"
      ]
    },
    {
      "cell_type": "markdown",
      "metadata": {
        "id": "qMCJ5hmEDHQk"
      },
      "source": [
        "# **CBOW**"
      ]
    },
    {
      "cell_type": "code",
      "execution_count": 78,
      "metadata": {
        "id": "x1p311IxDNfz"
      },
      "outputs": [],
      "source": [
        "cbow_model = Word2Vec(sentences=sentences,\n",
        "                      sg=0,              # Indicates the CBOW model\n",
        "                      vector_size=100,\n",
        "                      window=5,\n",
        "                      min_count=1,\n",
        "                      workers=4,\n",
        "                      epochs=20)"
      ]
    },
    {
      "cell_type": "code",
      "execution_count": 79,
      "metadata": {
        "colab": {
          "base_uri": "https://localhost:8080/"
        },
        "id": "GVSTGYxsDfky",
        "outputId": "3b5469e3-bd75-4cfb-c059-77279a0ef376"
      },
      "outputs": [
        {
          "output_type": "stream",
          "name": "stdout",
          "text": [
            "[('kid', 0.40061330795288086), ('game', 0.3643937408924103), ('form', 0.3620052933692932), ('part', 0.35906222462654114), ('camera', 0.3527991771697998), ('along', 0.35020798444747925), ('evidence', 0.3489747941493988), ('stock', 0.3361576497554779), ('movie', 0.33015307784080505), ('program', 0.327744722366333)]\n"
          ]
        }
      ],
      "source": [
        "print(word_embeddings.most_similar('car'))"
      ]
    },
    {
      "cell_type": "markdown",
      "metadata": {
        "id": "Kf3iX2fxGjFv"
      },
      "source": [
        "# Compare betwen CBOW & Skipgram"
      ]
    },
    {
      "cell_type": "code",
      "execution_count": 80,
      "metadata": {
        "id": "amzVnqsqG44t"
      },
      "outputs": [],
      "source": [
        "import time\n",
        "\n",
        "word = 'career'"
      ]
    },
    {
      "cell_type": "code",
      "source": [
        "start_time_skipgram = time.time()\n",
        "skipgram_similar_words = skip_gram_model.wv.most_similar(word)\n",
        "end_time_skipgram = time.time()\n",
        "skipgram_time = end_time_skipgram - start_time_skipgram\n",
        "\n",
        "start_time_cbow = time.time()\n",
        "cbow_similar_words = cbow_model.wv.most_similar(word)\n",
        "end_time_cbow = time.time()\n",
        "cbow_time = end_time_cbow-start_time_cbow\n"
      ],
      "metadata": {
        "id": "As_T-Tf-jbnw"
      },
      "execution_count": 81,
      "outputs": []
    },
    {
      "cell_type": "code",
      "source": [
        "print(\"Skip-gram model:\")\n",
        "print(skipgram_similar_words)\n",
        "print(\"Time taken for Skip-gram model:\", skipgram_time, \"seconds\")\n",
        "\n",
        "print(\"CBOW model:\")\n",
        "print(cbow_similar_words)\n",
        "print(\"Time taken for CBOW model:\", cbow_time, \"seconds\")\n",
        "\n",
        "if skipgram_time<cbow_time:\n",
        "    print(\"Skip-gram model was faster.\")\n",
        "elif cbow_time < skipgram_time:\n",
        "    print(\"CBOW model was faster\")\n",
        "else:\n",
        "    print(\"Both took the same amount of time\")\n"
      ],
      "metadata": {
        "id": "36GPAmDvjOxm",
        "outputId": "b62bb22d-efab-4017-fbec-fe97152a07e3",
        "colab": {
          "base_uri": "https://localhost:8080/"
        }
      },
      "execution_count": 82,
      "outputs": [
        {
          "output_type": "stream",
          "name": "stdout",
          "text": [
            "Skip-gram model:\n",
            "[('.', 0.4454668462276459), ('current', 0.41692256927490234), ('husband', 0.37884750962257385), ('politics', 0.3552754819393158), ('pm', 0.3448687195777893), ('leave', 0.3403257727622986), ('sure', 0.3394918143749237), ('onto', 0.3320145606994629), ('term', 0.32907429337501526), ('scene', 0.3204682469367981)]\n",
            "Time taken for Skip-gram model: 0.00667572021484375 seconds\n",
            "CBOW model:\n",
            "[('fight', 0.5081037878990173), ('various', 0.4429844617843628), ('eat', 0.4175970256328583), ('within', 0.4072027802467346), ('support', 0.4054358899593353), ('capital', 0.40062740445137024), ('individual', 0.3944961726665497), ('school', 0.3934437036514282), ('compare', 0.37474745512008667), ('country', 0.3696836233139038)]\n",
            "Time taken for CBOW model: 0.0006642341613769531 seconds\n",
            "CBOW model was faster\n"
          ]
        }
      ]
    },
    {
      "cell_type": "code",
      "source": [
        "word = \"career\"\n",
        "\n",
        "cbow_model = Word2Vec(sentences=sentences, min_count=1, sg=0)\n",
        "\n",
        "skip_gram_model = Word2Vec(sentences=sentences, min_count=1, sg=1)\n",
        "\n",
        "cbow_word_vector = cbow_model.wv[word]\n",
        "\n",
        "skip_gram_word_vector = skip_gram_model.wv[word]\n",
        "\n",
        "def cosine_similarity(v1, v2):\n",
        "    dot_product = np.dot(v1, v2)\n",
        "    norm_v1 = np.linalg.norm(v1)\n",
        "    norm_v2 = np.linalg.norm(v2)\n",
        "    return dot_product / (norm_v1 * norm_v2)\n",
        "similarity_score = cosine_similarity(cbow_word_vector, skip_gram_word_vector)\n",
        "\n",
        "print(\"Cosine Similarity of '{}' is {:.2f}\".format(word, similarity_score))\n"
      ],
      "metadata": {
        "id": "1rFu7jwHlrFx"
      },
      "execution_count": null,
      "outputs": []
    },
    {
      "cell_type": "code",
      "source": [],
      "metadata": {
        "id": "1YNROYFpj3Lz"
      },
      "execution_count": null,
      "outputs": []
    },
    {
      "cell_type": "markdown",
      "metadata": {
        "id": "wdHvBBtBDRp4"
      },
      "source": []
    },
    {
      "cell_type": "markdown",
      "metadata": {
        "id": "ni0EX30j0vCi"
      },
      "source": [
        "# b. GloVe Model  using Flair Libarary\n"
      ]
    },
    {
      "cell_type": "code",
      "execution_count": null,
      "metadata": {
        "id": "U_GjupuC5byB"
      },
      "outputs": [],
      "source": [
        "sentence1 = Sentence(\"She gave her a rose as a symbol of love.\")\n",
        "sentence2 = Sentence(\"He watched as the sun rose over the horizon.\")"
      ]
    },
    {
      "cell_type": "code",
      "execution_count": null,
      "metadata": {
        "id": "8v0VmoFdCCrU"
      },
      "outputs": [],
      "source": [
        "glove_embedding.embed(sentence1)\n",
        "glove_embedding.embed(sentence2)"
      ]
    },
    {
      "cell_type": "code",
      "execution_count": null,
      "metadata": {
        "id": "iBAs8P7j0017"
      },
      "outputs": [],
      "source": [
        "print(\"Embedded tokens for Sentence 1:\")\n",
        "for token in sentence1:\n",
        "    print(colored(token.text, 'blue', attrs=['bold']))\n",
        "    print(token.embedding)\n",
        "\n",
        "print(\"\\nEmbedded tokens for Sentence 2:\")\n",
        "for token in sentence2:\n",
        "    print(colored(token.text, 'green', attrs=['bold']))\n",
        "    print(token.embedding)"
      ]
    },
    {
      "cell_type": "code",
      "execution_count": null,
      "metadata": {
        "id": "UMACDzFP01Ie"
      },
      "outputs": [],
      "source": [
        "similarity = 1 - spatial.distance.cosine(sentence1[5].embedding, sentence2[5].embedding)\n",
        "print(f\"\\nSimilarity between the embeddings of the word 'rose': {similarity}\")\n"
      ]
    }
  ],
  "metadata": {
    "colab": {
      "provenance": [],
      "authorship_tag": "ABX9TyPkXq0qjoa3NvolJ/HvXx92",
      "include_colab_link": true
    },
    "kernelspec": {
      "display_name": "Python 3",
      "name": "python3"
    },
    "language_info": {
      "name": "python"
    }
  },
  "nbformat": 4,
  "nbformat_minor": 0
}