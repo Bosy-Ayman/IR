{
  "nbformat": 4,
  "nbformat_minor": 0,
  "metadata": {
    "colab": {
      "provenance": [],
      "authorship_tag": "ABX9TyOLB7D5FYi5geLLbvsEAIz1",
      "include_colab_link": true
    },
    "kernelspec": {
      "name": "python3",
      "display_name": "Python 3"
    },
    "language_info": {
      "name": "python"
    }
  },
  "cells": [
    {
      "cell_type": "markdown",
      "metadata": {
        "id": "view-in-github",
        "colab_type": "text"
      },
      "source": [
        "<a href=\"https://colab.research.google.com/github/Bosy-Ayman/IR/blob/main/Assignment_(3)_Term_Representation.ipynb\" target=\"_parent\"><img src=\"https://colab.research.google.com/assets/colab-badge.svg\" alt=\"Open In Colab\"/></a>"
      ]
    },
    {
      "cell_type": "markdown",
      "source": [
        "#Objective:\n",
        "The objective of this assignment is to gain practical experience in\n",
        "implementing popular word embedding models for information retrieval:\n",
        "Skip-gram, CBOW , and GloVe.\n",
        "\n",
        "\n",
        "# Assignment's Requirment:\n",
        "**a. Skip-gram / CBOW  Model using Gensim Libarary:**\n",
        "\n",
        "Implement the training algorithm (Skip-gram model) using a large corpus of text data of your choice.\n",
        "Experiment with different\n",
        "hyperparameters and analyze their impact on the quality of word embeddings.\n",
        "Compare the performance and characteristics of the CBOW model with the Skip-gram model.\n",
        "\n",
        "**b. GloVe Model  using Flair Libarary:**\n",
        "\n",
        "Choose either the word \"rose\" or \"tie\" to create two different sentences such that they share the same word but with different meanings. Use GloVe to get the word embeddings. Check the similarity between the embeddings of the common word in both sentences when GloVe was used."
      ],
      "metadata": {
        "id": "tXCvR2DCwwZt"
      }
    },
    {
      "cell_type": "code",
      "source": [],
      "metadata": {
        "id": "zKzpirv2xTnh"
      },
      "execution_count": null,
      "outputs": []
    }
  ]
}