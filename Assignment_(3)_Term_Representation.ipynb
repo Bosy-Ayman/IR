{
  "cells": [
    {
      "cell_type": "markdown",
      "metadata": {
        "id": "view-in-github",
        "colab_type": "text"
      },
      "source": [
        "<a href=\"https://colab.research.google.com/github/Bosy-Ayman/IR/blob/main/Assignment_(3)_Term_Representation.ipynb\" target=\"_parent\"><img src=\"https://colab.research.google.com/assets/colab-badge.svg\" alt=\"Open In Colab\"/></a>"
      ]
    },
    {
      "cell_type": "markdown",
      "metadata": {
        "id": "tXCvR2DCwwZt"
      },
      "source": [
        "#Objective:\n",
        "The objective of this assignment is to gain practical experience in\n",
        "implementing popular word embedding models for information retrieval:\n",
        "Skip-gram, CBOW , and GloVe.\n",
        "\n",
        "\n",
        "# Assignment's Requirment:\n",
        "**a. Skip-gram / CBOW  Model using Gensim Libarary:**\n",
        "\n",
        "Implement the training algorithm (Skip-gram model) using a large corpus of text data of your choice.\n",
        "\n",
        "\n",
        "Experiment with different\n",
        "hyperparameters and analyze their impact on the quality of word embeddings.\n",
        "\n",
        "Compare the performance and characteristics of the CBOW model with the Skip-gram model.\n",
        "\n",
        "**b. GloVe Model  using Flair Libarary:**\n",
        "\n",
        "Choose either the word \"rose\" or \"tie\" to create two different sentences such that they share the same word but with different meanings.\n",
        "\n",
        "Use GloVe to get the word embeddings. Check the similarity between the embeddings of the common word in both sentences when GloVe was used."
      ]
    },
    {
      "cell_type": "code",
      "execution_count": null,
      "metadata": {
        "colab": {
          "base_uri": "https://localhost:8080/",
          "height": 1000
        },
        "id": "B-eC3_7F3bV-",
        "outputId": "a53af9f3-3287-4564-827a-184ad2e7d635"
      },
      "outputs": [
        {
          "name": "stdout",
          "output_type": "stream",
          "text": [
            "Collecting flair\n",
            "  Downloading flair-0.13.1-py3-none-any.whl (388 kB)\n",
            "\u001b[2K     \u001b[90m━━━━━━━━━━━━━━━━━━━━━━━━━━━━━━━━━━━━━━━━\u001b[0m \u001b[32m388.3/388.3 kB\u001b[0m \u001b[31m7.3 MB/s\u001b[0m eta \u001b[36m0:00:00\u001b[0m\n",
            "\u001b[?25hCollecting boto3>=1.20.27 (from flair)\n",
            "  Downloading boto3-1.34.90-py3-none-any.whl (139 kB)\n",
            "\u001b[2K     \u001b[90m━━━━━━━━━━━━━━━━━━━━━━━━━━━━━━━━━━━━━━━━\u001b[0m \u001b[32m139.3/139.3 kB\u001b[0m \u001b[31m13.1 MB/s\u001b[0m eta \u001b[36m0:00:00\u001b[0m\n",
            "\u001b[?25hCollecting bpemb>=0.3.2 (from flair)\n",
            "  Downloading bpemb-0.3.5-py3-none-any.whl (19 kB)\n",
            "Collecting conllu>=4.0 (from flair)\n",
            "  Downloading conllu-4.5.3-py2.py3-none-any.whl (16 kB)\n",
            "Collecting deprecated>=1.2.13 (from flair)\n",
            "  Downloading Deprecated-1.2.14-py2.py3-none-any.whl (9.6 kB)\n",
            "Collecting ftfy>=6.1.0 (from flair)\n",
            "  Downloading ftfy-6.2.0-py3-none-any.whl (54 kB)\n",
            "\u001b[2K     \u001b[90m━━━━━━━━━━━━━━━━━━━━━━━━━━━━━━━━━━━━━━━━\u001b[0m \u001b[32m54.4/54.4 kB\u001b[0m \u001b[31m5.8 MB/s\u001b[0m eta \u001b[36m0:00:00\u001b[0m\n",
            "\u001b[?25hRequirement already satisfied: gdown>=4.4.0 in /usr/local/lib/python3.10/dist-packages (from flair) (5.1.0)\n",
            "Requirement already satisfied: gensim>=4.2.0 in /usr/local/lib/python3.10/dist-packages (from flair) (4.3.2)\n",
            "Requirement already satisfied: huggingface-hub>=0.10.0 in /usr/local/lib/python3.10/dist-packages (from flair) (0.20.3)\n",
            "Collecting janome>=0.4.2 (from flair)\n",
            "  Downloading Janome-0.5.0-py2.py3-none-any.whl (19.7 MB)\n",
            "\u001b[2K     \u001b[90m━━━━━━━━━━━━━━━━━━━━━━━━━━━━━━━━━━━━━━━━\u001b[0m \u001b[32m19.7/19.7 MB\u001b[0m \u001b[31m34.0 MB/s\u001b[0m eta \u001b[36m0:00:00\u001b[0m\n",
            "\u001b[?25hCollecting langdetect>=1.0.9 (from flair)\n",
            "  Downloading langdetect-1.0.9.tar.gz (981 kB)\n",
            "\u001b[2K     \u001b[90m━━━━━━━━━━━━━━━━━━━━━━━━━━━━━━━━━━━━━━━━\u001b[0m \u001b[32m981.5/981.5 kB\u001b[0m \u001b[31m39.5 MB/s\u001b[0m eta \u001b[36m0:00:00\u001b[0m\n",
            "\u001b[?25h  Preparing metadata (setup.py) ... \u001b[?25l\u001b[?25hdone\n",
            "Requirement already satisfied: lxml>=4.8.0 in /usr/local/lib/python3.10/dist-packages (from flair) (4.9.4)\n",
            "Requirement already satisfied: matplotlib>=2.2.3 in /usr/local/lib/python3.10/dist-packages (from flair) (3.7.1)\n",
            "Requirement already satisfied: more-itertools>=8.13.0 in /usr/local/lib/python3.10/dist-packages (from flair) (10.1.0)\n",
            "Collecting mpld3>=0.3 (from flair)\n",
            "  Downloading mpld3-0.5.10-py3-none-any.whl (202 kB)\n",
            "\u001b[2K     \u001b[90m━━━━━━━━━━━━━━━━━━━━━━━━━━━━━━━━━━━━━━━━\u001b[0m \u001b[32m202.6/202.6 kB\u001b[0m \u001b[31m15.7 MB/s\u001b[0m eta \u001b[36m0:00:00\u001b[0m\n",
            "\u001b[?25hCollecting pptree>=3.1 (from flair)\n",
            "  Downloading pptree-3.1.tar.gz (3.0 kB)\n",
            "  Preparing metadata (setup.py) ... \u001b[?25l\u001b[?25hdone\n",
            "Requirement already satisfied: python-dateutil>=2.8.2 in /usr/local/lib/python3.10/dist-packages (from flair) (2.8.2)\n",
            "Collecting pytorch-revgrad>=0.2.0 (from flair)\n",
            "  Downloading pytorch_revgrad-0.2.0-py3-none-any.whl (4.6 kB)\n",
            "Requirement already satisfied: regex>=2022.1.18 in /usr/local/lib/python3.10/dist-packages (from flair) (2023.12.25)\n",
            "Requirement already satisfied: scikit-learn>=1.0.2 in /usr/local/lib/python3.10/dist-packages (from flair) (1.2.2)\n",
            "Collecting segtok>=1.5.11 (from flair)\n",
            "  Downloading segtok-1.5.11-py3-none-any.whl (24 kB)\n",
            "Collecting sqlitedict>=2.0.0 (from flair)\n",
            "  Downloading sqlitedict-2.1.0.tar.gz (21 kB)\n",
            "  Preparing metadata (setup.py) ... \u001b[?25l\u001b[?25hdone\n",
            "Requirement already satisfied: tabulate>=0.8.10 in /usr/local/lib/python3.10/dist-packages (from flair) (0.9.0)\n",
            "Requirement already satisfied: torch!=1.8,>=1.5.0 in /usr/local/lib/python3.10/dist-packages (from flair) (2.2.1+cu121)\n",
            "Requirement already satisfied: tqdm>=4.63.0 in /usr/local/lib/python3.10/dist-packages (from flair) (4.66.2)\n",
            "Collecting transformer-smaller-training-vocab>=0.2.3 (from flair)\n",
            "  Downloading transformer_smaller_training_vocab-0.4.0-py3-none-any.whl (14 kB)\n",
            "Requirement already satisfied: transformers[sentencepiece]<5.0.0,>=4.18.0 in /usr/local/lib/python3.10/dist-packages (from flair) (4.40.0)\n",
            "Collecting urllib3<2.0.0,>=1.0.0 (from flair)\n",
            "  Downloading urllib3-1.26.18-py2.py3-none-any.whl (143 kB)\n",
            "\u001b[2K     \u001b[90m━━━━━━━━━━━━━━━━━━━━━━━━━━━━━━━━━━━━━━━━\u001b[0m \u001b[32m143.8/143.8 kB\u001b[0m \u001b[31m14.1 MB/s\u001b[0m eta \u001b[36m0:00:00\u001b[0m\n",
            "\u001b[?25hCollecting wikipedia-api>=0.5.7 (from flair)\n",
            "  Downloading Wikipedia_API-0.6.0-py3-none-any.whl (14 kB)\n",
            "Collecting semver<4.0.0,>=3.0.0 (from flair)\n",
            "  Downloading semver-3.0.2-py3-none-any.whl (17 kB)\n",
            "Collecting botocore<1.35.0,>=1.34.90 (from boto3>=1.20.27->flair)\n",
            "  Downloading botocore-1.34.90-py3-none-any.whl (12.2 MB)\n",
            "\u001b[2K     \u001b[90m━━━━━━━━━━━━━━━━━━━━━━━━━━━━━━━━━━━━━━━━\u001b[0m \u001b[32m12.2/12.2 MB\u001b[0m \u001b[31m53.9 MB/s\u001b[0m eta \u001b[36m0:00:00\u001b[0m\n",
            "\u001b[?25hCollecting jmespath<2.0.0,>=0.7.1 (from boto3>=1.20.27->flair)\n",
            "  Downloading jmespath-1.0.1-py3-none-any.whl (20 kB)\n",
            "Collecting s3transfer<0.11.0,>=0.10.0 (from boto3>=1.20.27->flair)\n",
            "  Downloading s3transfer-0.10.1-py3-none-any.whl (82 kB)\n",
            "\u001b[2K     \u001b[90m━━━━━━━━━━━━━━━━━━━━━━━━━━━━━━━━━━━━━━━━\u001b[0m \u001b[32m82.2/82.2 kB\u001b[0m \u001b[31m11.4 MB/s\u001b[0m eta \u001b[36m0:00:00\u001b[0m\n",
            "\u001b[?25hRequirement already satisfied: numpy in /usr/local/lib/python3.10/dist-packages (from bpemb>=0.3.2->flair) (1.25.2)\n",
            "Requirement already satisfied: requests in /usr/local/lib/python3.10/dist-packages (from bpemb>=0.3.2->flair) (2.31.0)\n",
            "Requirement already satisfied: sentencepiece in /usr/local/lib/python3.10/dist-packages (from bpemb>=0.3.2->flair) (0.1.99)\n",
            "Requirement already satisfied: wrapt<2,>=1.10 in /usr/local/lib/python3.10/dist-packages (from deprecated>=1.2.13->flair) (1.14.1)\n",
            "Requirement already satisfied: wcwidth<0.3.0,>=0.2.12 in /usr/local/lib/python3.10/dist-packages (from ftfy>=6.1.0->flair) (0.2.13)\n",
            "Requirement already satisfied: beautifulsoup4 in /usr/local/lib/python3.10/dist-packages (from gdown>=4.4.0->flair) (4.12.3)\n",
            "Requirement already satisfied: filelock in /usr/local/lib/python3.10/dist-packages (from gdown>=4.4.0->flair) (3.13.4)\n",
            "Requirement already satisfied: scipy>=1.7.0 in /usr/local/lib/python3.10/dist-packages (from gensim>=4.2.0->flair) (1.11.4)\n",
            "Requirement already satisfied: smart-open>=1.8.1 in /usr/local/lib/python3.10/dist-packages (from gensim>=4.2.0->flair) (6.4.0)\n",
            "Requirement already satisfied: fsspec>=2023.5.0 in /usr/local/lib/python3.10/dist-packages (from huggingface-hub>=0.10.0->flair) (2023.6.0)\n",
            "Requirement already satisfied: pyyaml>=5.1 in /usr/local/lib/python3.10/dist-packages (from huggingface-hub>=0.10.0->flair) (6.0.1)\n",
            "Requirement already satisfied: typing-extensions>=3.7.4.3 in /usr/local/lib/python3.10/dist-packages (from huggingface-hub>=0.10.0->flair) (4.11.0)\n",
            "Requirement already satisfied: packaging>=20.9 in /usr/local/lib/python3.10/dist-packages (from huggingface-hub>=0.10.0->flair) (24.0)\n",
            "Requirement already satisfied: six in /usr/local/lib/python3.10/dist-packages (from langdetect>=1.0.9->flair) (1.16.0)\n",
            "Requirement already satisfied: contourpy>=1.0.1 in /usr/local/lib/python3.10/dist-packages (from matplotlib>=2.2.3->flair) (1.2.1)\n",
            "Requirement already satisfied: cycler>=0.10 in /usr/local/lib/python3.10/dist-packages (from matplotlib>=2.2.3->flair) (0.12.1)\n",
            "Requirement already satisfied: fonttools>=4.22.0 in /usr/local/lib/python3.10/dist-packages (from matplotlib>=2.2.3->flair) (4.51.0)\n",
            "Requirement already satisfied: kiwisolver>=1.0.1 in /usr/local/lib/python3.10/dist-packages (from matplotlib>=2.2.3->flair) (1.4.5)\n",
            "Requirement already satisfied: pillow>=6.2.0 in /usr/local/lib/python3.10/dist-packages (from matplotlib>=2.2.3->flair) (9.4.0)\n",
            "Requirement already satisfied: pyparsing>=2.3.1 in /usr/local/lib/python3.10/dist-packages (from matplotlib>=2.2.3->flair) (3.1.2)\n",
            "Requirement already satisfied: jinja2 in /usr/local/lib/python3.10/dist-packages (from mpld3>=0.3->flair) (3.1.3)\n",
            "Requirement already satisfied: joblib>=1.1.1 in /usr/local/lib/python3.10/dist-packages (from scikit-learn>=1.0.2->flair) (1.4.0)\n",
            "Requirement already satisfied: threadpoolctl>=2.0.0 in /usr/local/lib/python3.10/dist-packages (from scikit-learn>=1.0.2->flair) (3.4.0)\n",
            "Requirement already satisfied: sympy in /usr/local/lib/python3.10/dist-packages (from torch!=1.8,>=1.5.0->flair) (1.12)\n",
            "Requirement already satisfied: networkx in /usr/local/lib/python3.10/dist-packages (from torch!=1.8,>=1.5.0->flair) (3.3)\n",
            "Collecting nvidia-cuda-nvrtc-cu12==12.1.105 (from torch!=1.8,>=1.5.0->flair)\n",
            "  Using cached nvidia_cuda_nvrtc_cu12-12.1.105-py3-none-manylinux1_x86_64.whl (23.7 MB)\n",
            "Collecting nvidia-cuda-runtime-cu12==12.1.105 (from torch!=1.8,>=1.5.0->flair)\n",
            "  Using cached nvidia_cuda_runtime_cu12-12.1.105-py3-none-manylinux1_x86_64.whl (823 kB)\n",
            "Collecting nvidia-cuda-cupti-cu12==12.1.105 (from torch!=1.8,>=1.5.0->flair)\n",
            "  Using cached nvidia_cuda_cupti_cu12-12.1.105-py3-none-manylinux1_x86_64.whl (14.1 MB)\n",
            "Collecting nvidia-cudnn-cu12==8.9.2.26 (from torch!=1.8,>=1.5.0->flair)\n",
            "  Using cached nvidia_cudnn_cu12-8.9.2.26-py3-none-manylinux1_x86_64.whl (731.7 MB)\n",
            "Collecting nvidia-cublas-cu12==12.1.3.1 (from torch!=1.8,>=1.5.0->flair)\n",
            "  Using cached nvidia_cublas_cu12-12.1.3.1-py3-none-manylinux1_x86_64.whl (410.6 MB)\n",
            "Collecting nvidia-cufft-cu12==11.0.2.54 (from torch!=1.8,>=1.5.0->flair)\n",
            "  Using cached nvidia_cufft_cu12-11.0.2.54-py3-none-manylinux1_x86_64.whl (121.6 MB)\n",
            "Collecting nvidia-curand-cu12==10.3.2.106 (from torch!=1.8,>=1.5.0->flair)\n",
            "  Using cached nvidia_curand_cu12-10.3.2.106-py3-none-manylinux1_x86_64.whl (56.5 MB)\n",
            "Collecting nvidia-cusolver-cu12==11.4.5.107 (from torch!=1.8,>=1.5.0->flair)\n",
            "  Using cached nvidia_cusolver_cu12-11.4.5.107-py3-none-manylinux1_x86_64.whl (124.2 MB)\n",
            "Collecting nvidia-cusparse-cu12==12.1.0.106 (from torch!=1.8,>=1.5.0->flair)\n",
            "  Using cached nvidia_cusparse_cu12-12.1.0.106-py3-none-manylinux1_x86_64.whl (196.0 MB)\n",
            "Collecting nvidia-nccl-cu12==2.19.3 (from torch!=1.8,>=1.5.0->flair)\n",
            "  Using cached nvidia_nccl_cu12-2.19.3-py3-none-manylinux1_x86_64.whl (166.0 MB)\n",
            "Collecting nvidia-nvtx-cu12==12.1.105 (from torch!=1.8,>=1.5.0->flair)\n",
            "  Using cached nvidia_nvtx_cu12-12.1.105-py3-none-manylinux1_x86_64.whl (99 kB)\n",
            "Requirement already satisfied: triton==2.2.0 in /usr/local/lib/python3.10/dist-packages (from torch!=1.8,>=1.5.0->flair) (2.2.0)\n",
            "Collecting nvidia-nvjitlink-cu12 (from nvidia-cusolver-cu12==11.4.5.107->torch!=1.8,>=1.5.0->flair)\n",
            "  Using cached nvidia_nvjitlink_cu12-12.4.127-py3-none-manylinux2014_x86_64.whl (21.1 MB)\n",
            "Requirement already satisfied: tokenizers<0.20,>=0.19 in /usr/local/lib/python3.10/dist-packages (from transformers[sentencepiece]<5.0.0,>=4.18.0->flair) (0.19.1)\n",
            "Requirement already satisfied: safetensors>=0.4.1 in /usr/local/lib/python3.10/dist-packages (from transformers[sentencepiece]<5.0.0,>=4.18.0->flair) (0.4.3)\n",
            "Requirement already satisfied: protobuf in /usr/local/lib/python3.10/dist-packages (from transformers[sentencepiece]<5.0.0,>=4.18.0->flair) (3.20.3)\n",
            "Collecting accelerate>=0.21.0 (from transformers[sentencepiece]<5.0.0,>=4.18.0->flair)\n",
            "  Downloading accelerate-0.29.3-py3-none-any.whl (297 kB)\n",
            "\u001b[2K     \u001b[90m━━━━━━━━━━━━━━━━━━━━━━━━━━━━━━━━━━━━━━━━\u001b[0m \u001b[32m297.6/297.6 kB\u001b[0m \u001b[31m29.5 MB/s\u001b[0m eta \u001b[36m0:00:00\u001b[0m\n",
            "\u001b[?25hRequirement already satisfied: soupsieve>1.2 in /usr/local/lib/python3.10/dist-packages (from beautifulsoup4->gdown>=4.4.0->flair) (2.5)\n",
            "Requirement already satisfied: MarkupSafe>=2.0 in /usr/local/lib/python3.10/dist-packages (from jinja2->mpld3>=0.3->flair) (2.1.5)\n",
            "Requirement already satisfied: charset-normalizer<4,>=2 in /usr/local/lib/python3.10/dist-packages (from requests->bpemb>=0.3.2->flair) (3.3.2)\n",
            "Requirement already satisfied: idna<4,>=2.5 in /usr/local/lib/python3.10/dist-packages (from requests->bpemb>=0.3.2->flair) (3.7)\n",
            "Requirement already satisfied: certifi>=2017.4.17 in /usr/local/lib/python3.10/dist-packages (from requests->bpemb>=0.3.2->flair) (2024.2.2)\n",
            "Requirement already satisfied: PySocks!=1.5.7,>=1.5.6 in /usr/local/lib/python3.10/dist-packages (from requests->bpemb>=0.3.2->flair) (1.7.1)\n",
            "Requirement already satisfied: mpmath>=0.19 in /usr/local/lib/python3.10/dist-packages (from sympy->torch!=1.8,>=1.5.0->flair) (1.3.0)\n",
            "Requirement already satisfied: psutil in /usr/local/lib/python3.10/dist-packages (from accelerate>=0.21.0->transformers[sentencepiece]<5.0.0,>=4.18.0->flair) (5.9.5)\n",
            "Building wheels for collected packages: langdetect, pptree, sqlitedict\n",
            "  Building wheel for langdetect (setup.py) ... \u001b[?25l\u001b[?25hdone\n",
            "  Created wheel for langdetect: filename=langdetect-1.0.9-py3-none-any.whl size=993227 sha256=a246974f002a3d5ec2a501d0a1c8a5ed71e5a5beee931ee30d1004c19bc41caa\n",
            "  Stored in directory: /root/.cache/pip/wheels/95/03/7d/59ea870c70ce4e5a370638b5462a7711ab78fba2f655d05106\n",
            "  Building wheel for pptree (setup.py) ... \u001b[?25l\u001b[?25hdone\n",
            "  Created wheel for pptree: filename=pptree-3.1-py3-none-any.whl size=4609 sha256=c4c3bbf35f4cb7631de4dfbc024b4582558cbcc47da6f901136a72f979bdaf55\n",
            "  Stored in directory: /root/.cache/pip/wheels/9f/b6/0e/6f26eb9e6eb53ff2107a7888d72b5a6a597593956113037828\n",
            "  Building wheel for sqlitedict (setup.py) ... \u001b[?25l\u001b[?25hdone\n",
            "  Created wheel for sqlitedict: filename=sqlitedict-2.1.0-py3-none-any.whl size=16862 sha256=05ebad7f4191fabbe632be1d1ab2ef5c386b0cb7afed3db83d0e4a0bf6cc9f63\n",
            "  Stored in directory: /root/.cache/pip/wheels/79/d6/e7/304e0e6cb2221022c26d8161f7c23cd4f259a9e41e8bbcfabd\n",
            "Successfully built langdetect pptree sqlitedict\n",
            "Installing collected packages: sqlitedict, pptree, janome, urllib3, semver, segtok, nvidia-nvtx-cu12, nvidia-nvjitlink-cu12, nvidia-nccl-cu12, nvidia-curand-cu12, nvidia-cufft-cu12, nvidia-cuda-runtime-cu12, nvidia-cuda-nvrtc-cu12, nvidia-cuda-cupti-cu12, nvidia-cublas-cu12, langdetect, jmespath, ftfy, deprecated, conllu, nvidia-cusparse-cu12, nvidia-cudnn-cu12, botocore, wikipedia-api, s3transfer, nvidia-cusolver-cu12, mpld3, bpemb, boto3, pytorch-revgrad, accelerate, transformer-smaller-training-vocab, flair\n",
            "  Attempting uninstall: urllib3\n",
            "    Found existing installation: urllib3 2.0.7\n",
            "    Uninstalling urllib3-2.0.7:\n",
            "      Successfully uninstalled urllib3-2.0.7\n",
            "Successfully installed accelerate-0.29.3 boto3-1.34.90 botocore-1.34.90 bpemb-0.3.5 conllu-4.5.3 deprecated-1.2.14 flair-0.13.1 ftfy-6.2.0 janome-0.5.0 jmespath-1.0.1 langdetect-1.0.9 mpld3-0.5.10 nvidia-cublas-cu12-12.1.3.1 nvidia-cuda-cupti-cu12-12.1.105 nvidia-cuda-nvrtc-cu12-12.1.105 nvidia-cuda-runtime-cu12-12.1.105 nvidia-cudnn-cu12-8.9.2.26 nvidia-cufft-cu12-11.0.2.54 nvidia-curand-cu12-10.3.2.106 nvidia-cusolver-cu12-11.4.5.107 nvidia-cusparse-cu12-12.1.0.106 nvidia-nccl-cu12-2.19.3 nvidia-nvjitlink-cu12-12.4.127 nvidia-nvtx-cu12-12.1.105 pptree-3.1 pytorch-revgrad-0.2.0 s3transfer-0.10.1 segtok-1.5.11 semver-3.0.2 sqlitedict-2.1.0 transformer-smaller-training-vocab-0.4.0 urllib3-1.26.18 wikipedia-api-0.6.0\n"
          ]
        },
        {
          "data": {
            "application/vnd.colab-display-data+json": {
              "id": "ab6b23dfbc01429b819b31b8d41580c5",
              "pip_warning": {
                "packages": [
                  "urllib3"
                ]
              }
            }
          },
          "metadata": {},
          "output_type": "display_data"
        }
      ],
      "source": [
        "#install FLAIR\n",
        "!pip install flair"
      ]
    },
    {
      "cell_type": "markdown",
      "metadata": {
        "id": "VccsBC0n0HM5"
      },
      "source": []
    },
    {
      "cell_type": "code",
      "execution_count": 1,
      "metadata": {
        "id": "zKzpirv2xTnh"
      },
      "outputs": [],
      "source": [
        "from gensim.models import Word2Vec\n",
        "from gensim.models import KeyedVectors\n",
        "import pandas as pd\n",
        "import gensim\n",
        "from gensim.models import Word2Vec\n",
        "from scipy import spatial"
      ]
    },
    {
      "cell_type": "code",
      "execution_count": 2,
      "metadata": {
        "id": "Tq6Tt1eZ5Q8C",
        "colab": {
          "base_uri": "https://localhost:8080/",
          "height": 403
        },
        "outputId": "bd177c1d-8c71-43d8-c048-377e4be3e7fc"
      },
      "outputs": [
        {
          "output_type": "error",
          "ename": "ModuleNotFoundError",
          "evalue": "No module named 'flair'",
          "traceback": [
            "\u001b[0;31m---------------------------------------------------------------------------\u001b[0m",
            "\u001b[0;31mModuleNotFoundError\u001b[0m                       Traceback (most recent call last)",
            "\u001b[0;32m<ipython-input-2-ebd96fd163b2>\u001b[0m in \u001b[0;36m<cell line: 1>\u001b[0;34m()\u001b[0m\n\u001b[0;32m----> 1\u001b[0;31m \u001b[0;32mfrom\u001b[0m \u001b[0mflair\u001b[0m\u001b[0;34m.\u001b[0m\u001b[0mdata\u001b[0m \u001b[0;32mimport\u001b[0m \u001b[0mSentence\u001b[0m \u001b[0;31m# represent a sentence\u001b[0m\u001b[0;34m\u001b[0m\u001b[0;34m\u001b[0m\u001b[0m\n\u001b[0m\u001b[1;32m      2\u001b[0m \u001b[0;32mfrom\u001b[0m \u001b[0mflair\u001b[0m\u001b[0;34m.\u001b[0m\u001b[0membeddings\u001b[0m \u001b[0;32mimport\u001b[0m \u001b[0mWordEmbeddings\u001b[0m\u001b[0;34m\u001b[0m\u001b[0;34m\u001b[0m\u001b[0m\n\u001b[1;32m      3\u001b[0m \u001b[0;34m\u001b[0m\u001b[0m\n\u001b[1;32m      4\u001b[0m \u001b[0;32mfrom\u001b[0m \u001b[0mtermcolor\u001b[0m \u001b[0;32mimport\u001b[0m \u001b[0mcolored\u001b[0m \u001b[0;31m#add color to text output\u001b[0m\u001b[0;34m\u001b[0m\u001b[0;34m\u001b[0m\u001b[0m\n\u001b[1;32m      5\u001b[0m \u001b[0;34m\u001b[0m\u001b[0m\n",
            "\u001b[0;31mModuleNotFoundError\u001b[0m: No module named 'flair'",
            "",
            "\u001b[0;31m---------------------------------------------------------------------------\u001b[0;32m\nNOTE: If your import is failing due to a missing package, you can\nmanually install dependencies using either !pip or !apt.\n\nTo view examples of installing some common dependencies, click the\n\"Open Examples\" button below.\n\u001b[0;31m---------------------------------------------------------------------------\u001b[0m\n"
          ],
          "errorDetails": {
            "actions": [
              {
                "action": "open_url",
                "actionText": "Open Examples",
                "url": "/notebooks/snippets/importing_libraries.ipynb"
              }
            ]
          }
        }
      ],
      "source": [
        "from flair.data import Sentence # represent a sentence\n",
        "from flair.embeddings import WordEmbeddings\n",
        "\n",
        "from termcolor import colored #add color to text output\n",
        "\n",
        "# initialize embedding by specifying which model we want to use\n",
        "glove_embedding = WordEmbeddings('glove')"
      ]
    },
    {
      "cell_type": "code",
      "execution_count": null,
      "metadata": {
        "id": "0WB3ioKA8COe"
      },
      "outputs": [],
      "source": []
    },
    {
      "cell_type": "markdown",
      "metadata": {
        "id": "KLurDpON0HrR"
      },
      "source": [
        "# a. Skip-gram / CBOW  Model using Gensim Library"
      ]
    },
    {
      "cell_type": "code",
      "execution_count": 3,
      "metadata": {
        "colab": {
          "base_uri": "https://localhost:8080/",
          "height": 206
        },
        "id": "shDKo021zy71",
        "outputId": "ce83faad-04c7-47ec-82df-17f5d5928b07"
      },
      "outputs": [
        {
          "output_type": "execute_result",
          "data": {
            "text/plain": [
              "   Tweet_ID                                               Text\n",
              "0         1  Party least receive say or single. Prevent pre...\n",
              "1         2  Hotel still Congress may member staff. Media d...\n",
              "2         3  Nice be her debate industry that year. Film wh...\n",
              "3         4  Laugh explain situation career occur serious. ...\n",
              "4         5  Involve sense former often approach government..."
            ],
            "text/html": [
              "\n",
              "  <div id=\"df-42399065-938a-4601-8cf2-479f44540fa0\" class=\"colab-df-container\">\n",
              "    <div>\n",
              "<style scoped>\n",
              "    .dataframe tbody tr th:only-of-type {\n",
              "        vertical-align: middle;\n",
              "    }\n",
              "\n",
              "    .dataframe tbody tr th {\n",
              "        vertical-align: top;\n",
              "    }\n",
              "\n",
              "    .dataframe thead th {\n",
              "        text-align: right;\n",
              "    }\n",
              "</style>\n",
              "<table border=\"1\" class=\"dataframe\">\n",
              "  <thead>\n",
              "    <tr style=\"text-align: right;\">\n",
              "      <th></th>\n",
              "      <th>Tweet_ID</th>\n",
              "      <th>Text</th>\n",
              "    </tr>\n",
              "  </thead>\n",
              "  <tbody>\n",
              "    <tr>\n",
              "      <th>0</th>\n",
              "      <td>1</td>\n",
              "      <td>Party least receive say or single. Prevent pre...</td>\n",
              "    </tr>\n",
              "    <tr>\n",
              "      <th>1</th>\n",
              "      <td>2</td>\n",
              "      <td>Hotel still Congress may member staff. Media d...</td>\n",
              "    </tr>\n",
              "    <tr>\n",
              "      <th>2</th>\n",
              "      <td>3</td>\n",
              "      <td>Nice be her debate industry that year. Film wh...</td>\n",
              "    </tr>\n",
              "    <tr>\n",
              "      <th>3</th>\n",
              "      <td>4</td>\n",
              "      <td>Laugh explain situation career occur serious. ...</td>\n",
              "    </tr>\n",
              "    <tr>\n",
              "      <th>4</th>\n",
              "      <td>5</td>\n",
              "      <td>Involve sense former often approach government...</td>\n",
              "    </tr>\n",
              "  </tbody>\n",
              "</table>\n",
              "</div>\n",
              "    <div class=\"colab-df-buttons\">\n",
              "\n",
              "  <div class=\"colab-df-container\">\n",
              "    <button class=\"colab-df-convert\" onclick=\"convertToInteractive('df-42399065-938a-4601-8cf2-479f44540fa0')\"\n",
              "            title=\"Convert this dataframe to an interactive table.\"\n",
              "            style=\"display:none;\">\n",
              "\n",
              "  <svg xmlns=\"http://www.w3.org/2000/svg\" height=\"24px\" viewBox=\"0 -960 960 960\">\n",
              "    <path d=\"M120-120v-720h720v720H120Zm60-500h600v-160H180v160Zm220 220h160v-160H400v160Zm0 220h160v-160H400v160ZM180-400h160v-160H180v160Zm440 0h160v-160H620v160ZM180-180h160v-160H180v160Zm440 0h160v-160H620v160Z\"/>\n",
              "  </svg>\n",
              "    </button>\n",
              "\n",
              "  <style>\n",
              "    .colab-df-container {\n",
              "      display:flex;\n",
              "      gap: 12px;\n",
              "    }\n",
              "\n",
              "    .colab-df-convert {\n",
              "      background-color: #E8F0FE;\n",
              "      border: none;\n",
              "      border-radius: 50%;\n",
              "      cursor: pointer;\n",
              "      display: none;\n",
              "      fill: #1967D2;\n",
              "      height: 32px;\n",
              "      padding: 0 0 0 0;\n",
              "      width: 32px;\n",
              "    }\n",
              "\n",
              "    .colab-df-convert:hover {\n",
              "      background-color: #E2EBFA;\n",
              "      box-shadow: 0px 1px 2px rgba(60, 64, 67, 0.3), 0px 1px 3px 1px rgba(60, 64, 67, 0.15);\n",
              "      fill: #174EA6;\n",
              "    }\n",
              "\n",
              "    .colab-df-buttons div {\n",
              "      margin-bottom: 4px;\n",
              "    }\n",
              "\n",
              "    [theme=dark] .colab-df-convert {\n",
              "      background-color: #3B4455;\n",
              "      fill: #D2E3FC;\n",
              "    }\n",
              "\n",
              "    [theme=dark] .colab-df-convert:hover {\n",
              "      background-color: #434B5C;\n",
              "      box-shadow: 0px 1px 3px 1px rgba(0, 0, 0, 0.15);\n",
              "      filter: drop-shadow(0px 1px 2px rgba(0, 0, 0, 0.3));\n",
              "      fill: #FFFFFF;\n",
              "    }\n",
              "  </style>\n",
              "\n",
              "    <script>\n",
              "      const buttonEl =\n",
              "        document.querySelector('#df-42399065-938a-4601-8cf2-479f44540fa0 button.colab-df-convert');\n",
              "      buttonEl.style.display =\n",
              "        google.colab.kernel.accessAllowed ? 'block' : 'none';\n",
              "\n",
              "      async function convertToInteractive(key) {\n",
              "        const element = document.querySelector('#df-42399065-938a-4601-8cf2-479f44540fa0');\n",
              "        const dataTable =\n",
              "          await google.colab.kernel.invokeFunction('convertToInteractive',\n",
              "                                                    [key], {});\n",
              "        if (!dataTable) return;\n",
              "\n",
              "        const docLinkHtml = 'Like what you see? Visit the ' +\n",
              "          '<a target=\"_blank\" href=https://colab.research.google.com/notebooks/data_table.ipynb>data table notebook</a>'\n",
              "          + ' to learn more about interactive tables.';\n",
              "        element.innerHTML = '';\n",
              "        dataTable['output_type'] = 'display_data';\n",
              "        await google.colab.output.renderOutput(dataTable, element);\n",
              "        const docLink = document.createElement('div');\n",
              "        docLink.innerHTML = docLinkHtml;\n",
              "        element.appendChild(docLink);\n",
              "      }\n",
              "    </script>\n",
              "  </div>\n",
              "\n",
              "\n",
              "<div id=\"df-31cf01d1-c7fc-4b32-a0cc-f7b2bc1d455b\">\n",
              "  <button class=\"colab-df-quickchart\" onclick=\"quickchart('df-31cf01d1-c7fc-4b32-a0cc-f7b2bc1d455b')\"\n",
              "            title=\"Suggest charts\"\n",
              "            style=\"display:none;\">\n",
              "\n",
              "<svg xmlns=\"http://www.w3.org/2000/svg\" height=\"24px\"viewBox=\"0 0 24 24\"\n",
              "     width=\"24px\">\n",
              "    <g>\n",
              "        <path d=\"M19 3H5c-1.1 0-2 .9-2 2v14c0 1.1.9 2 2 2h14c1.1 0 2-.9 2-2V5c0-1.1-.9-2-2-2zM9 17H7v-7h2v7zm4 0h-2V7h2v10zm4 0h-2v-4h2v4z\"/>\n",
              "    </g>\n",
              "</svg>\n",
              "  </button>\n",
              "\n",
              "<style>\n",
              "  .colab-df-quickchart {\n",
              "      --bg-color: #E8F0FE;\n",
              "      --fill-color: #1967D2;\n",
              "      --hover-bg-color: #E2EBFA;\n",
              "      --hover-fill-color: #174EA6;\n",
              "      --disabled-fill-color: #AAA;\n",
              "      --disabled-bg-color: #DDD;\n",
              "  }\n",
              "\n",
              "  [theme=dark] .colab-df-quickchart {\n",
              "      --bg-color: #3B4455;\n",
              "      --fill-color: #D2E3FC;\n",
              "      --hover-bg-color: #434B5C;\n",
              "      --hover-fill-color: #FFFFFF;\n",
              "      --disabled-bg-color: #3B4455;\n",
              "      --disabled-fill-color: #666;\n",
              "  }\n",
              "\n",
              "  .colab-df-quickchart {\n",
              "    background-color: var(--bg-color);\n",
              "    border: none;\n",
              "    border-radius: 50%;\n",
              "    cursor: pointer;\n",
              "    display: none;\n",
              "    fill: var(--fill-color);\n",
              "    height: 32px;\n",
              "    padding: 0;\n",
              "    width: 32px;\n",
              "  }\n",
              "\n",
              "  .colab-df-quickchart:hover {\n",
              "    background-color: var(--hover-bg-color);\n",
              "    box-shadow: 0 1px 2px rgba(60, 64, 67, 0.3), 0 1px 3px 1px rgba(60, 64, 67, 0.15);\n",
              "    fill: var(--button-hover-fill-color);\n",
              "  }\n",
              "\n",
              "  .colab-df-quickchart-complete:disabled,\n",
              "  .colab-df-quickchart-complete:disabled:hover {\n",
              "    background-color: var(--disabled-bg-color);\n",
              "    fill: var(--disabled-fill-color);\n",
              "    box-shadow: none;\n",
              "  }\n",
              "\n",
              "  .colab-df-spinner {\n",
              "    border: 2px solid var(--fill-color);\n",
              "    border-color: transparent;\n",
              "    border-bottom-color: var(--fill-color);\n",
              "    animation:\n",
              "      spin 1s steps(1) infinite;\n",
              "  }\n",
              "\n",
              "  @keyframes spin {\n",
              "    0% {\n",
              "      border-color: transparent;\n",
              "      border-bottom-color: var(--fill-color);\n",
              "      border-left-color: var(--fill-color);\n",
              "    }\n",
              "    20% {\n",
              "      border-color: transparent;\n",
              "      border-left-color: var(--fill-color);\n",
              "      border-top-color: var(--fill-color);\n",
              "    }\n",
              "    30% {\n",
              "      border-color: transparent;\n",
              "      border-left-color: var(--fill-color);\n",
              "      border-top-color: var(--fill-color);\n",
              "      border-right-color: var(--fill-color);\n",
              "    }\n",
              "    40% {\n",
              "      border-color: transparent;\n",
              "      border-right-color: var(--fill-color);\n",
              "      border-top-color: var(--fill-color);\n",
              "    }\n",
              "    60% {\n",
              "      border-color: transparent;\n",
              "      border-right-color: var(--fill-color);\n",
              "    }\n",
              "    80% {\n",
              "      border-color: transparent;\n",
              "      border-right-color: var(--fill-color);\n",
              "      border-bottom-color: var(--fill-color);\n",
              "    }\n",
              "    90% {\n",
              "      border-color: transparent;\n",
              "      border-bottom-color: var(--fill-color);\n",
              "    }\n",
              "  }\n",
              "</style>\n",
              "\n",
              "  <script>\n",
              "    async function quickchart(key) {\n",
              "      const quickchartButtonEl =\n",
              "        document.querySelector('#' + key + ' button');\n",
              "      quickchartButtonEl.disabled = true;  // To prevent multiple clicks.\n",
              "      quickchartButtonEl.classList.add('colab-df-spinner');\n",
              "      try {\n",
              "        const charts = await google.colab.kernel.invokeFunction(\n",
              "            'suggestCharts', [key], {});\n",
              "      } catch (error) {\n",
              "        console.error('Error during call to suggestCharts:', error);\n",
              "      }\n",
              "      quickchartButtonEl.classList.remove('colab-df-spinner');\n",
              "      quickchartButtonEl.classList.add('colab-df-quickchart-complete');\n",
              "    }\n",
              "    (() => {\n",
              "      let quickchartButtonEl =\n",
              "        document.querySelector('#df-31cf01d1-c7fc-4b32-a0cc-f7b2bc1d455b button');\n",
              "      quickchartButtonEl.style.display =\n",
              "        google.colab.kernel.accessAllowed ? 'block' : 'none';\n",
              "    })();\n",
              "  </script>\n",
              "</div>\n",
              "\n",
              "    </div>\n",
              "  </div>\n"
            ],
            "application/vnd.google.colaboratory.intrinsic+json": {
              "type": "dataframe",
              "variable_name": "df",
              "summary": "{\n  \"name\": \"df\",\n  \"rows\": 10000,\n  \"fields\": [\n    {\n      \"column\": \"Tweet_ID\",\n      \"properties\": {\n        \"dtype\": \"number\",\n        \"std\": 2886,\n        \"min\": 1,\n        \"max\": 10000,\n        \"num_unique_values\": 10000,\n        \"samples\": [\n          6253,\n          4685,\n          1732\n        ],\n        \"semantic_type\": \"\",\n        \"description\": \"\"\n      }\n    },\n    {\n      \"column\": \"Text\",\n      \"properties\": {\n        \"dtype\": \"string\",\n        \"num_unique_values\": 10000,\n        \"samples\": [\n          \"Just specific color. Hour federal open act. Particular visit wide another family sea.\\nArt security win great. School discover war hit road population.\",\n          \"Move memory join.\\nIndeed model quite adult when nearly. Safe impact argue detail. Eye not piece anything reach.\\nNews everyone state image believe allow. Strategy hear sure really author.\\nSource paper body manage. Plan because police put.\",\n          \"Meeting recently bed force after difference.\\nBoth herself full note management decade. Wait outside medical bill represent.\\nStudy western prepare single so and. Important audience first not find. Strategy either fund same skin collection hour.\"\n        ],\n        \"semantic_type\": \"\",\n        \"description\": \"\"\n      }\n    }\n  ]\n}"
            }
          },
          "metadata": {},
          "execution_count": 3
        }
      ],
      "source": [
        "df = pd.read_csv('/content/twitter_dataset (2).csv')\n",
        "df.head()"
      ]
    },
    {
      "cell_type": "code",
      "execution_count": null,
      "metadata": {
        "id": "Z5iZKecq8M8l"
      },
      "outputs": [],
      "source": [
        "sentence_list = []\n",
        "for index, row in df.iterrows():\n",
        "    text = row['Text']\n",
        "    sentence = Sentence(text)\n",
        "    sentence_list.append(sentence)\n"
      ]
    },
    {
      "cell_type": "code",
      "execution_count": null,
      "metadata": {
        "colab": {
          "base_uri": "https://localhost:8080/"
        },
        "id": "dTKSOWKY8Opu",
        "outputId": "635b58ca-92c0-44fb-d857-289259a8e1b6"
      },
      "outputs": [
        {
          "name": "stderr",
          "output_type": "stream",
          "text": [
            "[nltk_data] Downloading package punkt to /root/nltk_data...\n",
            "[nltk_data]   Package punkt is already up-to-date!\n",
            "[nltk_data] Downloading package stopwords to /root/nltk_data...\n",
            "[nltk_data]   Package stopwords is already up-to-date!\n"
          ]
        },
        {
          "name": "stdout",
          "output_type": "stream",
          "text": [
            "[-0.44251183  0.27917197  0.55789715  0.29744086 -0.01770047 -0.16491671\n",
            "  0.2329851   0.08424011 -0.40120277 -0.17113729 -0.07717277 -0.2862711\n",
            "  0.06341754  0.22429505 -0.3132316   0.07138085  0.24411362 -0.08608164\n",
            "  0.00140799 -0.44308507  0.18732388  0.03822618  0.10707109 -0.17110787\n",
            " -0.14740519  0.01305881 -0.39968932 -0.09775757  0.10112496  0.12361441\n",
            " -0.15947187  0.15135425 -0.0195104   0.026969   -0.43622792 -0.08837458\n",
            "  0.16060187  0.1298998   0.2365945  -0.11248676 -0.36336967 -0.11971667\n",
            " -0.3545128   0.12213264  0.04384251 -0.4267459  -0.10168868 -0.18450746\n",
            " -0.041083    0.2154087   0.12886679  0.14049314 -0.18704759  0.02614572\n",
            " -0.39225465  0.04687404 -0.16925359 -0.02221261  0.12925872 -0.2588597\n",
            "  0.2870524  -0.25192347 -0.22699499  0.13865905 -0.38397884 -0.04663954\n",
            "  0.3804066   0.15672281 -0.08829667  0.07201767 -0.19179408 -0.04811651\n",
            "  0.29020774 -0.11229155  0.15573     0.22710869  0.13514777  0.10567074\n",
            " -0.22159094  0.4753603   0.1442081  -0.2580568   0.0612505   0.10125946\n",
            "  0.2950336   0.03312203  0.31898645 -0.13268596 -0.08886701 -0.01097904\n",
            " -0.02980775  0.07611188  0.09915078  0.27592224 -0.0279288   0.25305662\n",
            "  0.24375537 -0.27745253 -0.42687866  0.25562307]\n"
          ]
        }
      ],
      "source": [
        "import pandas as pd\n",
        "from gensim.models import Word2Vec\n",
        "from nltk.tokenize import word_tokenize\n",
        "from nltk.corpus import stopwords\n",
        "import nltk\n",
        "nltk.download('punkt')\n",
        "nltk.download('stopwords')\n",
        "\n",
        "# Load the CSV file\n",
        "df = pd.read_csv('/content/twitter_dataset (2).csv')\n",
        "\n",
        "# Tokenize the text data into sentences\n",
        "sentences = [word_tokenize(tweet.lower()) for tweet in df['Text']]\n",
        "\n",
        "# Remove stopwords (optional)\n",
        "stop_words = set(stopwords.words('english'))\n",
        "sentences = [[word for word in sentence if word not in stop_words] for sentence in sentences]\n",
        "\n",
        "# Train the Word2Vec model\n",
        "model = Word2Vec(sentences=sentences,\n",
        "                 sg=1,              # Indicates the Skip-gram model\n",
        "                 vector_size=100,   # Each word will be represented as a vector of 100 dimensions\n",
        "                 window=2,          # Size of the context window (model will consider two words to the left/right of the target word)\n",
        "                 min_count=1,       # Minimum frequency count of words required to be included in the vocabulary\n",
        "                 workers=4,         # Utilizing multiple CPU cores\n",
        "                 epochs=20)         # Number of iterations over the corpus (epochs)\n",
        "\n",
        "# Get word embeddings\n",
        "word_embeddings = model.wv\n",
        "\n",
        "# Example usage\n",
        "print(word_embeddings['party'])\n"
      ]
    },
    {
      "cell_type": "code",
      "execution_count": null,
      "metadata": {
        "colab": {
          "background_save": true
        },
        "id": "vH-87KK78njl"
      },
      "outputs": [],
      "source": [
        "# Train the Skip-gram model with a lower min_count value\n",
        "skip_gram_model = Word2Vec(sentences=sentences,\n",
        "                           sg=1,              # Indicates the Skip-gram model\n",
        "                           vector_size=100,   # Each word will be represented as a vector of 100 dimensions\n",
        "                           window=5,          # Size of the context window (model will consider five words to the left/right of the target word)\n",
        "                           min_count=0,       # Lower minimum frequency count to include more words in the vocabulary\n",
        "                           workers=4,         # Utilizing multiple CPU cores\n",
        "                           epochs=20)         # Number of iterations over the corpus (epochs)\n"
      ]
    },
    {
      "cell_type": "code",
      "execution_count": null,
      "metadata": {
        "id": "DvfTtCn5RklT"
      },
      "outputs": [],
      "source": []
    },
    {
      "cell_type": "markdown",
      "metadata": {
        "id": "BlNwrViDBlcj"
      },
      "source": [
        "# **Word Similarity**\n"
      ]
    },
    {
      "cell_type": "code",
      "execution_count": null,
      "metadata": {
        "colab": {
          "background_save": true
        },
        "id": "_6PzShPVCEYf",
        "outputId": "4bd03a4b-477a-457f-959c-4d1325fe3296"
      },
      "outputs": [
        {
          "data": {
            "text/plain": [
              "[('agree', 0.39307937026023865),\n",
              " ('information', 0.3812074363231659),\n",
              " ('bar', 0.3605286180973053),\n",
              " ('center', 0.3323398232460022),\n",
              " ('beyond', 0.332107275724411),\n",
              " ('really', 0.33092981576919556),\n",
              " ('court', 0.32735908031463623),\n",
              " ('something', 0.3267015814781189),\n",
              " ('strong', 0.325004905462265),\n",
              " ('whatever', 0.3230258524417877)]"
            ]
          },
          "execution_count": 75,
          "metadata": {},
          "output_type": "execute_result"
        }
      ],
      "source": [
        "skip_gram_model.wv.most_similar(positive=[ \"media\"])\n"
      ]
    },
    {
      "cell_type": "markdown",
      "metadata": {
        "id": "qMCJ5hmEDHQk"
      },
      "source": [
        "# **CBOW**"
      ]
    },
    {
      "cell_type": "code",
      "execution_count": null,
      "metadata": {
        "id": "x1p311IxDNfz"
      },
      "outputs": [],
      "source": [
        "cbow_model = Word2Vec(sentences=sentences,\n",
        "                      sg=0,              # Indicates the CBOW model\n",
        "                      vector_size=100,\n",
        "                      window=5,\n",
        "                      min_count=1,\n",
        "                      workers=4,\n",
        "                      epochs=20)"
      ]
    },
    {
      "cell_type": "code",
      "execution_count": null,
      "metadata": {
        "colab": {
          "base_uri": "https://localhost:8080/"
        },
        "id": "GVSTGYxsDfky",
        "outputId": "4645f846-be80-4ed9-e0c7-3d69dfd88ffb"
      },
      "outputs": [
        {
          "name": "stdout",
          "output_type": "stream",
          "text": [
            "[('program', 0.4322067201137543), ('action', 0.4156095087528229), ('article', 0.4127078354358673), ('return', 0.40242382884025574), ('try', 0.38492411375045776), ('a.', 0.3736300468444824), ('interesting', 0.37281227111816406), ('vote', 0.37165725231170654), ('member', 0.3696838617324829), ('walk', 0.36881962418556213)]\n"
          ]
        }
      ],
      "source": [
        "print(word_embeddings.most_similar('car'))"
      ]
    },
    {
      "cell_type": "markdown",
      "metadata": {
        "id": "Kf3iX2fxGjFv"
      },
      "source": [
        "# Compare betwen CBOW & Skipgram"
      ]
    },
    {
      "cell_type": "code",
      "execution_count": null,
      "metadata": {
        "colab": {
          "base_uri": "https://localhost:8080/"
        },
        "id": "amzVnqsqG44t",
        "outputId": "dc218b80-6618-400b-90aa-a40060f44847"
      },
      "outputs": [
        {
          "name": "stdout",
          "output_type": "stream",
          "text": [
            "Skip-gram model:\n",
            "[('She', 0.15016697347164154), ('He', 0.1281592696905136), ('night', 0.0931011214852333), ('I', 0.09215975552797318), ('books', 0.04649941623210907), ('the', 0.0007307013729587197), ('every', -0.0036444426514208317), ('reads', -0.009278439916670322), ('chess', -0.03030233457684517), ('swimming', -0.04044800251722336)]\n",
            "\n",
            "CBOW model:\n",
            "[('She', 0.15016697347164154), ('He', 0.1281592696905136), ('night', 0.0931011214852333), ('I', 0.09215975552797318), ('books', 0.04649941623210907), ('the', 0.0007307013729587197), ('every', -0.0036444426514208317), ('reads', -0.009278439916670322), ('chess', -0.03030233457684517), ('swimming', -0.04044800251722336)]\n"
          ]
        }
      ],
      "source": [
        "word = 'playing'\n",
        "\n",
        "# Skip-gram model\n",
        "print(\"Skip-gram model:\")\n",
        "print(skip_gram_model.wv.most_similar(word))\n",
        "\n",
        "# CBOW model\n",
        "print(\"CBOW model:\")\n",
        "print(cbow_model.wv.most_similar(word))\n"
      ]
    },
    {
      "cell_type": "markdown",
      "metadata": {
        "id": "wdHvBBtBDRp4"
      },
      "source": []
    },
    {
      "cell_type": "markdown",
      "metadata": {
        "id": "ni0EX30j0vCi"
      },
      "source": [
        "# b. GloVe Model  using Flair Libarary\n"
      ]
    },
    {
      "cell_type": "code",
      "execution_count": null,
      "metadata": {
        "id": "U_GjupuC5byB"
      },
      "outputs": [],
      "source": [
        "sentence1 = Sentence(\"She gave her a rose as a symbol of love.\")\n",
        "sentence2 = Sentence(\"He watched as the sun rose over the horizon.\")"
      ]
    },
    {
      "cell_type": "code",
      "execution_count": null,
      "metadata": {
        "colab": {
          "base_uri": "https://localhost:8080/"
        },
        "id": "8v0VmoFdCCrU",
        "outputId": "28ff6dcd-d848-4d78-c0e5-b96b02379e7f"
      },
      "outputs": [
        {
          "data": {
            "text/plain": [
              "[Sentence[10]: \"He watched as the sun rose over the horizon.\"]"
            ]
          },
          "execution_count": 51,
          "metadata": {},
          "output_type": "execute_result"
        }
      ],
      "source": [
        "glove_embedding.embed(sentence1)\n",
        "glove_embedding.embed(sentence2)"
      ]
    },
    {
      "cell_type": "code",
      "execution_count": null,
      "metadata": {
        "colab": {
          "base_uri": "https://localhost:8080/"
        },
        "id": "iBAs8P7j0017",
        "outputId": "f0d69a07-633b-4425-f0d2-f1b71cf0621b"
      },
      "outputs": [
        {
          "name": "stdout",
          "output_type": "stream",
          "text": [
            "Embedded tokens for Sentence 1:\n",
            "She\n",
            "tensor([ 0.3144,  0.1531,  0.1826, -0.0959,  0.1320,  0.4428, -0.1401,  0.8488,\n",
            "         0.5705,  0.2021,  0.3575,  0.2790,  0.2424,  0.5929,  0.0709, -0.2236,\n",
            "         0.2905,  0.2584, -0.5239,  0.2074, -0.1903,  0.0785,  0.3739,  0.1341,\n",
            "         0.6007,  0.7033, -0.5381, -1.5178,  0.4962, -0.3139, -0.4069,  1.1136,\n",
            "         0.4728,  0.3203, -0.0774,  0.2923, -0.2867,  0.1330,  0.1037, -0.2659,\n",
            "        -1.0749, -0.1974,  0.1176, -0.5536, -0.2697, -0.0694, -0.0873, -0.6109,\n",
            "         0.7917, -0.4573, -0.2104, -0.4465,  1.0217,  1.4455, -0.1559, -2.9029,\n",
            "        -0.1445, -0.2267,  0.8572,  1.1399,  0.1820,  1.0707, -0.3531,  0.1442,\n",
            "         0.6392, -0.3528,  0.7269,  0.3061,  0.2623,  0.4319,  0.1371, -0.1222,\n",
            "         0.1147,  0.2121,  0.2266,  0.8510, -0.1074, -0.4954, -0.8858, -0.5439,\n",
            "         0.1720, -0.0254, -0.0805,  0.3384, -1.9701, -1.4076, -0.0744, -0.2123,\n",
            "        -0.6591, -0.6036,  0.0125, -0.7423,  0.9570,  0.4106, -0.5335,  0.6575,\n",
            "        -0.5649, -0.0427,  0.0610,  0.7434])\n",
            "gave\n",
            "tensor([ 1.6224e-01, -2.9974e-01,  2.4017e-01, -3.4674e-02,  8.4865e-02,\n",
            "         2.2100e-01,  1.5442e-01,  1.9539e-01, -4.5233e-01, -3.9139e-01,\n",
            "         3.5970e-01, -2.1969e-01, -3.5709e-01,  3.8492e-02,  1.4835e-01,\n",
            "         3.0550e-02,  4.9988e-02, -1.8679e-01, -4.4572e-01,  5.3581e-01,\n",
            "         2.6571e-01, -3.4997e-01, -2.2538e-01,  3.3336e-02,  2.5628e-01,\n",
            "        -3.5656e-01, -4.7697e-01,  1.1827e-01,  4.7185e-02, -3.7912e-01,\n",
            "         3.9560e-01,  5.4301e-01,  4.1160e-02,  4.8694e-01, -1.4688e-01,\n",
            "         2.4207e-01, -8.3896e-02,  6.9410e-01, -6.4098e-01,  1.6580e-01,\n",
            "        -5.3679e-01, -2.8471e-01,  5.2918e-01, -2.8821e-01,  5.2352e-04,\n",
            "        -6.6265e-01,  9.9369e-02, -4.6101e-01,  5.3764e-01, -4.9255e-01,\n",
            "         9.0057e-02,  1.9386e-01,  1.8539e-01,  6.5688e-01, -1.5229e-01,\n",
            "        -2.5785e+00, -3.1838e-01, -4.2418e-02,  9.7105e-01,  7.8539e-01,\n",
            "         2.7572e-01,  2.8969e-01, -4.9186e-01,  1.8960e-01,  2.1335e-01,\n",
            "        -5.7096e-01,  4.2364e-02,  6.7380e-01, -2.7331e-01,  3.5313e-01,\n",
            "        -3.2834e-01,  4.6829e-01,  9.5547e-02, -5.5727e-01,  1.4279e-01,\n",
            "         7.7616e-01, -5.6713e-01, -4.7005e-01, -1.0376e+00, -2.2660e-01,\n",
            "         5.3814e-01, -6.6462e-02, -6.3518e-01, -5.1595e-01, -1.2416e+00,\n",
            "        -3.6408e-01,  2.2127e-01,  2.3331e-01, -6.0088e-02, -1.2255e-01,\n",
            "         2.8140e-01, -1.1636e+00,  4.3804e-02, -1.9720e-01, -7.7898e-01,\n",
            "        -3.6151e-01, -2.5064e-01,  1.0320e-01, -2.9477e-01,  1.4932e-01])\n",
            "her\n",
            "tensor([ 0.3339, -0.5214,  0.2685,  0.1742,  0.1581,  0.9557, -0.3940,  0.7533,\n",
            "        -0.1243,  0.6454, -0.1285,  0.6102,  0.1479,  0.5614, -0.1148, -0.2333,\n",
            "         0.2446, -0.0300, -0.1094,  0.4196, -0.1799, -0.4647,  0.4662,  0.8860,\n",
            "         0.8370,  0.7602, -0.6604, -1.6917,  0.7600, -0.0442,  0.0781,  0.6895,\n",
            "         0.6506,  0.2584, -0.6366,  0.3315, -0.2220,  0.1220, -0.1161,  0.2356,\n",
            "        -0.5185, -0.1345,  0.4646, -0.3686, -0.1074,  0.1473, -0.3679, -0.1391,\n",
            "         0.7707, -0.4769, -0.0317,  0.0601,  0.9091,  1.6532,  0.0443, -3.1636,\n",
            "         0.3388, -0.4346,  1.1445,  0.2625,  0.4522,  1.5068,  0.2107,  0.4872,\n",
            "         0.4949, -0.0706,  1.0531,  0.5153,  0.1923,  0.2047, -0.4155,  0.6355,\n",
            "         0.0771, -0.4207,  0.3677,  0.9389, -0.5912, -0.7095, -0.8750, -0.3982,\n",
            "         0.2408,  0.6995,  0.3993,  0.2958, -1.8030, -1.2961,  0.0725,  0.2799,\n",
            "        -0.7954, -0.6289,  0.0790,  0.0140,  1.1702,  0.4514, -0.4172, -0.3487,\n",
            "        -0.8030, -0.3140,  0.3191,  0.6206])\n",
            "a\n",
            "tensor([-0.2709,  0.0440, -0.0203, -0.1740,  0.6444,  0.7121,  0.3551,  0.4714,\n",
            "        -0.2964,  0.5443, -0.7229, -0.0048,  0.0406,  0.0432,  0.2973,  0.1072,\n",
            "         0.4016, -0.5366,  0.0334,  0.0674,  0.6456, -0.0855,  0.1410,  0.0945,\n",
            "         0.7495, -0.1940, -0.6874, -0.4174, -0.2281,  0.1200, -0.4900,  0.8094,\n",
            "         0.0451, -0.1190,  0.2016,  0.3928, -0.2012,  0.3135,  0.7530,  0.2591,\n",
            "        -0.1157, -0.0293,  0.9350, -0.3607,  0.5242,  0.2371,  0.5271,  0.2287,\n",
            "        -0.5196, -0.7935, -0.2037, -0.5019,  0.1875,  0.9428, -0.4483, -3.6792,\n",
            "         0.0442, -0.2675,  2.1997,  0.2410, -0.0334,  0.6955, -0.6447, -0.0072,\n",
            "         0.8957,  0.2001,  0.4649,  0.6193, -0.1066,  0.0869, -0.4623,  0.1826,\n",
            "        -0.1585,  0.0208,  0.1937,  0.0634, -0.3167, -0.4818, -1.3848,  0.1367,\n",
            "         0.9686,  0.0500, -0.2738, -0.0357, -1.0577, -0.2447,  0.9037, -0.1244,\n",
            "         0.0808, -0.8340,  0.5720,  0.0889, -0.4253, -0.0183, -0.0800, -0.2858,\n",
            "        -0.0109, -0.4923,  0.6369,  0.2364])\n",
            "rose\n",
            "tensor([ 1.0937,  0.8214, -0.1852,  0.0786,  0.4147, -0.6426,  0.4255, -0.4695,\n",
            "        -0.4304, -0.4947, -0.0741, -0.4623, -0.3771, -0.2303,  0.6403, -0.5667,\n",
            "        -0.2091,  0.1569,  0.1502,  0.4576,  1.1152, -0.1295,  0.6497,  1.2699,\n",
            "         0.4033, -0.2435,  0.1815, -0.6812,  0.0251, -0.2500,  0.2702, -0.3044,\n",
            "         0.0668,  0.0367, -0.0932,  1.1323,  1.0154,  0.0239,  0.2471, -0.2042,\n",
            "         0.0470, -1.1112, -0.2564, -0.3373,  0.3545,  0.6022, -0.6253,  0.4094,\n",
            "         0.5817, -1.9538,  0.0367, -0.2600,  0.5758,  1.3510, -0.3376, -1.7692,\n",
            "        -0.7869,  0.1131,  1.3780,  0.7508,  0.4910, -0.2592, -0.7883,  0.1579,\n",
            "        -0.9344, -0.0443,  0.5513,  0.4390,  1.4439,  0.5425, -0.2027,  0.2897,\n",
            "        -0.4371,  0.1773, -0.3873,  0.3120, -0.0888,  0.3427, -0.6611,  0.1731,\n",
            "         0.2724,  0.6642, -0.2498, -0.4517, -0.4424, -0.7880,  0.3900, -0.6051,\n",
            "         1.1775,  0.6952,  0.3008, -0.0824, -0.4513,  0.4200, -1.2335,  0.4458,\n",
            "         0.1206, -0.3677,  0.1822,  0.3347])\n",
            "as\n",
            "tensor([-3.2721e-01,  9.6446e-02,  3.4244e-01, -4.4327e-01,  3.0535e-01,\n",
            "        -4.2016e-02, -7.1235e-02, -3.1036e-01, -2.2557e-01, -1.8100e-01,\n",
            "        -2.9088e-01, -6.1542e-01,  2.9751e-01,  3.0491e-02,  4.1504e-01,\n",
            "        -5.1489e-01,  6.8628e-01, -2.0302e-02, -1.8486e-01,  3.1605e-01,\n",
            "         5.9472e-01, -2.1470e-01,  2.9256e-01,  4.3262e-01,  3.5466e-01,\n",
            "        -2.9659e-01, -2.7086e-01, -4.8953e-01, -4.7391e-02,  2.4521e-01,\n",
            "        -1.5783e-01,  5.9742e-01, -4.1664e-01,  5.7632e-02,  1.2330e-01,\n",
            "         6.2326e-01, -8.8440e-02,  3.0770e-01, -1.5742e-01, -2.8381e-01,\n",
            "        -5.8058e-01, -2.2824e-02,  2.6689e-01, -2.2565e-01,  4.7548e-01,\n",
            "         1.1134e-01,  3.7263e-01, -1.4554e-01, -1.6775e-01, -7.9377e-01,\n",
            "        -3.0593e-01, -1.0671e-01,  4.4199e-01,  1.5698e+00, -7.3062e-01,\n",
            "        -2.7314e+00, -1.9366e-01, -3.2983e-01,  1.2881e+00,  6.2126e-01,\n",
            "        -2.5500e-01,  8.4160e-01, -2.3658e-01,  4.2594e-01,  8.6589e-01,\n",
            "        -3.5904e-01,  7.8162e-01,  2.0396e-01,  8.2898e-01,  1.6123e-03,\n",
            "        -2.4008e-01, -7.2735e-01, -5.3671e-02, -2.2264e-01,  3.1034e-01,\n",
            "        -2.1243e-01, -1.4335e-01,  3.1700e-01, -8.0478e-01, -4.9311e-01,\n",
            "         8.8023e-01, -2.4147e-01, -3.9220e-01,  1.5997e-01, -1.5854e+00,\n",
            "        -2.5824e-01,  5.2834e-02, -1.1983e-01, -1.8874e-02, -7.7356e-01,\n",
            "         4.9285e-02, -2.5332e-01, -3.0730e-01,  5.1295e-01, -5.6802e-01,\n",
            "        -2.1239e-01, -3.9741e-01, -3.8165e-01,  4.3994e-01,  2.4683e-01])\n",
            "a\n",
            "tensor([-0.2709,  0.0440, -0.0203, -0.1740,  0.6444,  0.7121,  0.3551,  0.4714,\n",
            "        -0.2964,  0.5443, -0.7229, -0.0048,  0.0406,  0.0432,  0.2973,  0.1072,\n",
            "         0.4016, -0.5366,  0.0334,  0.0674,  0.6456, -0.0855,  0.1410,  0.0945,\n",
            "         0.7495, -0.1940, -0.6874, -0.4174, -0.2281,  0.1200, -0.4900,  0.8094,\n",
            "         0.0451, -0.1190,  0.2016,  0.3928, -0.2012,  0.3135,  0.7530,  0.2591,\n",
            "        -0.1157, -0.0293,  0.9350, -0.3607,  0.5242,  0.2371,  0.5271,  0.2287,\n",
            "        -0.5196, -0.7935, -0.2037, -0.5019,  0.1875,  0.9428, -0.4483, -3.6792,\n",
            "         0.0442, -0.2675,  2.1997,  0.2410, -0.0334,  0.6955, -0.6447, -0.0072,\n",
            "         0.8957,  0.2001,  0.4649,  0.6193, -0.1066,  0.0869, -0.4623,  0.1826,\n",
            "        -0.1585,  0.0208,  0.1937,  0.0634, -0.3167, -0.4818, -1.3848,  0.1367,\n",
            "         0.9686,  0.0500, -0.2738, -0.0357, -1.0577, -0.2447,  0.9037, -0.1244,\n",
            "         0.0808, -0.8340,  0.5720,  0.0889, -0.4253, -0.0183, -0.0800, -0.2858,\n",
            "        -0.0109, -0.4923,  0.6369,  0.2364])\n",
            "symbol\n",
            "tensor([ 0.1251,  0.7217,  0.1556,  0.0860,  0.3311,  0.5854, -0.5177, -1.1489,\n",
            "        -0.1035,  0.1631, -0.9376, -0.4638,  0.6661,  0.1143,  0.0544,  0.2102,\n",
            "         1.2475, -0.0780,  0.0044, -0.2609,  0.3599, -0.1267, -0.7487,  0.1763,\n",
            "         0.7492,  0.1573,  0.0218,  0.2859,  0.1648, -0.7054,  0.6526,  0.4579,\n",
            "        -0.0507,  0.4240,  0.4160, -0.3717,  0.1731,  0.0590,  0.2614, -0.6987,\n",
            "         0.0670, -0.5313,  0.5268, -0.2853,  0.2162,  0.4148,  0.9581,  1.1662,\n",
            "        -0.8000, -0.6163,  0.5030,  0.1788,  0.6587,  1.4134, -0.2902, -1.3545,\n",
            "        -0.1366,  0.2420,  1.1555, -0.2351,  0.0681,  0.1748, -0.5447,  0.0179,\n",
            "         0.3089,  0.0618,  0.0476, -0.5179,  0.1953, -0.0777, -0.0615, -0.1462,\n",
            "        -0.7494,  0.2720,  0.7848, -0.5189,  0.1345, -0.1255, -0.8584, -0.4307,\n",
            "        -0.2588, -0.8062,  0.3472, -0.0604, -0.7214,  0.5712, -0.5122, -0.3945,\n",
            "         0.6976, -0.1353, -0.1372,  0.0387,  0.1406,  0.8027, -0.2084, -1.0926,\n",
            "        -0.2903, -0.9359,  0.1674,  0.6900])\n",
            "of\n",
            "tensor([-0.1529, -0.2428,  0.8984,  0.1700,  0.5352,  0.4878, -0.5883, -0.1798,\n",
            "        -1.3581,  0.4254,  0.1538,  0.2421,  0.1347,  0.4119,  0.6704, -0.5642,\n",
            "         0.4299, -0.0122, -0.1168,  0.3178,  0.0542, -0.0543,  0.3552, -0.3024,\n",
            "         0.3143, -0.3385,  0.7171, -0.2686, -0.1584, -0.4747,  0.0516, -0.3325,\n",
            "         0.1500, -0.1299, -0.5462, -0.3784,  0.6426,  0.8219, -0.0800,  0.0785,\n",
            "        -0.9698, -0.5774,  0.5649, -0.3987, -0.0571,  0.1974,  0.0657, -0.4809,\n",
            "        -0.2013, -0.4083,  0.3946, -0.0264, -0.1184,  1.0120, -0.5317, -2.7474,\n",
            "        -0.0430, -0.7485,  1.7574,  0.5908,  0.0488,  0.7827,  0.3850,  0.4210,\n",
            "         0.6788,  0.1034,  0.6328, -0.0266,  0.5865, -0.4433,  0.3306, -0.1202,\n",
            "        -0.5565,  0.0736,  0.2092,  0.4340, -0.0128,  0.0899, -1.7991,  0.0848,\n",
            "         0.7711,  0.6310, -0.9068,  0.6033, -1.7515,  0.1860, -0.5069, -0.7020,\n",
            "         0.6658, -0.8130,  0.1871, -0.0185, -0.2676,  0.7270, -0.5936, -0.3484,\n",
            "        -0.5609, -0.5910,  1.0039,  0.2066])\n",
            "love\n",
            "tensor([ 2.5975e-01,  5.5833e-01,  5.7986e-01, -2.1361e-01,  1.3084e-01,\n",
            "         9.4385e-01, -4.2817e-01, -3.7420e-01, -9.4499e-02, -4.3344e-01,\n",
            "        -2.0937e-01,  3.4702e-01,  8.2516e-02,  7.9735e-01,  1.6606e-01,\n",
            "        -2.6878e-01,  5.8830e-01,  6.7397e-01, -4.9965e-01,  1.4764e+00,\n",
            "         5.5261e-01,  2.5295e-02, -1.6068e-01, -1.3878e-01,  4.8686e-01,\n",
            "         1.1420e+00,  5.6195e-02, -7.3306e-01,  8.6932e-01, -3.5892e-01,\n",
            "        -5.1877e-01,  9.0402e-01,  4.9249e-01, -1.4915e-01,  4.8493e-02,\n",
            "         2.6096e-01,  1.1352e-01,  4.1275e-01,  5.3803e-01, -4.4950e-01,\n",
            "         8.5733e-02,  9.1184e-02,  5.0177e-03, -3.4645e-01, -1.1058e-01,\n",
            "        -2.2235e-01, -6.5290e-01, -5.1838e-02,  5.3791e-01, -8.1040e-01,\n",
            "        -1.8253e-01,  2.4194e-01,  5.4855e-01,  8.7731e-01,  2.2165e-01,\n",
            "        -2.7124e+00,  4.9405e-01,  4.4703e-01,  5.5882e-01,  2.6076e-01,\n",
            "         2.3760e-01,  1.0668e+00, -5.6971e-01, -6.4960e-01,  3.3511e-01,\n",
            "         3.4609e-01,  1.1033e+00,  8.5261e-02,  2.4847e-02, -4.5453e-01,\n",
            "         7.7012e-02,  2.1321e-01,  1.0444e-01,  6.7157e-02, -3.4261e-01,\n",
            "         8.5534e-01,  1.3361e-01, -4.3296e-01, -5.6726e-01, -2.1348e-01,\n",
            "        -3.3277e-01,  3.4351e-01,  3.2164e-01,  4.4527e-01, -1.3208e+00,\n",
            "        -1.3270e-01, -7.0820e-01, -4.8472e-01, -6.9396e-01, -2.6080e-01,\n",
            "        -4.7099e-01, -5.7492e-02,  9.3587e-02,  4.0006e-01, -4.3419e-01,\n",
            "        -2.7364e-01, -7.7017e-01, -8.4028e-01, -1.5620e-03,  6.2223e-01])\n",
            ".\n",
            "tensor([-0.3398,  0.2094,  0.4635, -0.6479, -0.3838,  0.0380,  0.1713,  0.1598,\n",
            "         0.4662, -0.0192,  0.4148, -0.3435,  0.2687,  0.0446,  0.4213, -0.4103,\n",
            "         0.1546,  0.0222, -0.6465,  0.2526,  0.0431, -0.1945,  0.4652,  0.4565,\n",
            "         0.6859,  0.0913,  0.2188, -0.7035,  0.1679, -0.3508, -0.1263,  0.6638,\n",
            "        -0.2582,  0.0365, -0.1361,  0.4025,  0.1429,  0.3813, -0.1228, -0.4589,\n",
            "        -0.2528, -0.3043, -0.1121, -0.2618, -0.2248, -0.4455,  0.2991, -0.8561,\n",
            "        -0.1450, -0.4909,  0.0083, -0.1749,  0.2752,  1.4401, -0.2124, -2.8435,\n",
            "        -0.2796, -0.4572,  1.6386,  0.7881, -0.5526,  0.6500,  0.0864,  0.3901,\n",
            "         1.0632, -0.3538,  0.4833,  0.3460,  0.8417,  0.0987, -0.2421, -0.2705,\n",
            "         0.0453, -0.4015,  0.1139,  0.0062,  0.0367,  0.0185, -1.0213, -0.2081,\n",
            "         0.6407, -0.0688, -0.5864,  0.3348, -1.1432, -0.1148, -0.2509, -0.4591,\n",
            "        -0.0968, -0.1795, -0.0634, -0.6741, -0.0689,  0.5360, -0.8777,  0.3180,\n",
            "        -0.3924, -0.2339,  0.4730, -0.0288])\n",
            "\n",
            "Embedded tokens for Sentence 2:\n",
            "He\n",
            "tensor([ 0.1225, -0.0588,  0.2366, -0.2888, -0.0282,  0.3152,  0.0702,  0.1645,\n",
            "        -0.0276,  0.2521,  0.2117, -0.0597,  0.3613,  0.1361,  0.1875, -0.1487,\n",
            "         0.3131,  0.1337, -0.5970, -0.0302,  0.0807,  0.2616, -0.0559, -0.3535,\n",
            "         0.3472, -0.0056, -0.5793, -0.8801,  0.4293, -0.1569, -0.5126,  1.2684,\n",
            "        -0.2523,  0.3526, -0.4642,  0.5565, -0.5756,  0.3257, -0.2189, -0.1318,\n",
            "        -1.1027, -0.0396,  0.8964, -0.9845, -0.4739, -0.1285,  0.6351, -0.9489,\n",
            "         0.4009, -0.7754, -0.3515, -0.2779,  0.6875,  1.4580, -0.3847, -2.8937,\n",
            "        -0.2952, -0.3884,  0.9488,  1.3891,  0.0546,  0.7049, -0.6570,  0.0756,\n",
            "         0.7655, -0.6337,  0.8656,  0.4244,  0.1480,  0.4156,  0.2935, -0.5130,\n",
            "         0.1963, -0.4557,  0.0080,  0.1453, -0.1540,  0.1141, -1.2167, -0.1111,\n",
            "         0.8264,  0.2174, -0.6378, -0.0749, -1.7130, -0.8827, -0.0073, -0.3762,\n",
            "        -0.5021, -0.5884, -0.2494, -1.0425,  0.2768,  0.6414, -0.6460,  0.4356,\n",
            "        -0.3728, -0.0032,  0.1874,  0.3070])\n",
            "watched\n",
            "tensor([ 0.1211,  0.3416, -0.0642, -0.3336, -0.7222,  0.3868,  0.0929,  0.4042,\n",
            "        -0.4475, -0.6322,  0.0862,  0.1154,  0.1691, -0.9614, -0.0546, -0.0519,\n",
            "         0.1439,  0.6471, -0.1060, -0.4024,  0.2334,  0.1230,  0.3122, -0.0170,\n",
            "         0.7767, -0.9504,  0.0580,  0.5649,  0.4512,  0.2824,  0.2952,  0.1445,\n",
            "         0.2391,  0.9046,  0.4625,  0.0644, -0.0581,  0.1848,  0.4589,  0.1058,\n",
            "        -0.3837, -0.5483, -0.0538,  0.4580,  0.0339,  0.0100, -0.1537,  0.0110,\n",
            "         0.2526, -1.3269, -0.0509, -0.5751,  0.5202,  0.7835,  0.1472, -1.6214,\n",
            "        -0.4974,  0.1872,  0.6604,  0.5062,  0.0927,  1.1395,  0.1304, -0.5994,\n",
            "        -0.1239,  0.4327,  0.2996,  0.3954,  0.1160,  0.9752,  0.3252,  0.0268,\n",
            "         0.3099, -0.1235, -0.4030,  0.6261,  0.0205,  0.0259,  0.2904, -0.1610,\n",
            "         0.7567,  0.5035, -0.2933, -0.0336, -1.3157, -1.4105, -0.4642,  0.1477,\n",
            "        -0.0623, -0.3142,  0.5045, -0.3506, -0.1749, -0.3988, -0.8552, -0.1453,\n",
            "         0.2426,  0.5300,  0.1891,  0.4274])\n",
            "as\n",
            "tensor([-3.2721e-01,  9.6446e-02,  3.4244e-01, -4.4327e-01,  3.0535e-01,\n",
            "        -4.2016e-02, -7.1235e-02, -3.1036e-01, -2.2557e-01, -1.8100e-01,\n",
            "        -2.9088e-01, -6.1542e-01,  2.9751e-01,  3.0491e-02,  4.1504e-01,\n",
            "        -5.1489e-01,  6.8628e-01, -2.0302e-02, -1.8486e-01,  3.1605e-01,\n",
            "         5.9472e-01, -2.1470e-01,  2.9256e-01,  4.3262e-01,  3.5466e-01,\n",
            "        -2.9659e-01, -2.7086e-01, -4.8953e-01, -4.7391e-02,  2.4521e-01,\n",
            "        -1.5783e-01,  5.9742e-01, -4.1664e-01,  5.7632e-02,  1.2330e-01,\n",
            "         6.2326e-01, -8.8440e-02,  3.0770e-01, -1.5742e-01, -2.8381e-01,\n",
            "        -5.8058e-01, -2.2824e-02,  2.6689e-01, -2.2565e-01,  4.7548e-01,\n",
            "         1.1134e-01,  3.7263e-01, -1.4554e-01, -1.6775e-01, -7.9377e-01,\n",
            "        -3.0593e-01, -1.0671e-01,  4.4199e-01,  1.5698e+00, -7.3062e-01,\n",
            "        -2.7314e+00, -1.9366e-01, -3.2983e-01,  1.2881e+00,  6.2126e-01,\n",
            "        -2.5500e-01,  8.4160e-01, -2.3658e-01,  4.2594e-01,  8.6589e-01,\n",
            "        -3.5904e-01,  7.8162e-01,  2.0396e-01,  8.2898e-01,  1.6123e-03,\n",
            "        -2.4008e-01, -7.2735e-01, -5.3671e-02, -2.2264e-01,  3.1034e-01,\n",
            "        -2.1243e-01, -1.4335e-01,  3.1700e-01, -8.0478e-01, -4.9311e-01,\n",
            "         8.8023e-01, -2.4147e-01, -3.9220e-01,  1.5997e-01, -1.5854e+00,\n",
            "        -2.5824e-01,  5.2834e-02, -1.1983e-01, -1.8874e-02, -7.7356e-01,\n",
            "         4.9285e-02, -2.5332e-01, -3.0730e-01,  5.1295e-01, -5.6802e-01,\n",
            "        -2.1239e-01, -3.9741e-01, -3.8165e-01,  4.3994e-01,  2.4683e-01])\n",
            "the\n",
            "tensor([-0.0382, -0.2449,  0.7281, -0.3996,  0.0832,  0.0440, -0.3914,  0.3344,\n",
            "        -0.5755,  0.0875,  0.2879, -0.0673,  0.3091, -0.2638, -0.1323, -0.2076,\n",
            "         0.3340, -0.3385, -0.3174, -0.4834,  0.1464, -0.3730,  0.3458,  0.0520,\n",
            "         0.4495, -0.4697,  0.0263, -0.5415, -0.1552, -0.1411, -0.0397,  0.2828,\n",
            "         0.1439,  0.2346, -0.3102,  0.0862,  0.2040,  0.5262,  0.1716, -0.0824,\n",
            "        -0.7179, -0.4153,  0.2033, -0.1276,  0.4137,  0.5519,  0.5791, -0.3348,\n",
            "        -0.3656, -0.5486, -0.0629,  0.2658,  0.3020,  0.9977, -0.8048, -3.0243,\n",
            "         0.0125, -0.3694,  2.2167,  0.7220, -0.2498,  0.9214,  0.0345,  0.4674,\n",
            "         1.1079, -0.1936, -0.0746,  0.2335, -0.0521, -0.2204,  0.0572, -0.1581,\n",
            "        -0.3080, -0.4162,  0.3797,  0.1501, -0.5321, -0.2055, -1.2526,  0.0716,\n",
            "         0.7056,  0.4974, -0.4206,  0.2615, -1.5380, -0.3022, -0.0734, -0.2831,\n",
            "         0.3710, -0.2522,  0.0162, -0.0171, -0.3898,  0.8742, -0.7257, -0.5106,\n",
            "        -0.5203, -0.1459,  0.8278,  0.2706])\n",
            "sun\n",
            "tensor([-6.5345e-01,  1.0536e-01,  4.1054e-01,  1.6399e-01,  3.5695e-01,\n",
            "         1.2420e-01,  2.5336e-01,  1.1384e-01, -8.9800e-01, -2.1020e-01,\n",
            "         5.8410e-01,  1.4093e-01,  8.1280e-01, -6.1758e-01,  7.5097e-01,\n",
            "        -1.4485e+00,  3.9935e-01, -9.4324e-02, -4.1869e-01, -7.5134e-01,\n",
            "        -1.4729e-01,  2.7213e-02, -8.7749e-01,  1.1953e+00,  3.1938e-01,\n",
            "         1.4351e+00,  2.1248e-01, -1.8565e-01, -4.8033e-01, -6.9217e-01,\n",
            "         9.7300e-02,  7.2822e-01,  2.1755e-02, -1.7448e-01, -2.1522e-01,\n",
            "        -4.0997e-01,  3.3637e-01,  6.8460e-02, -5.5169e-02, -6.8408e-01,\n",
            "        -1.0726e+00, -4.0011e-01, -5.6691e-01, -2.2212e-01,  5.2985e-01,\n",
            "        -2.4632e-01, -8.1446e-01,  4.2713e-01,  1.1072e+00, -4.6489e-01,\n",
            "         1.6010e-01, -4.5212e-01,  7.3682e-01,  5.1319e-01,  3.2067e-01,\n",
            "        -1.9105e+00,  7.8511e-02,  1.3270e+00,  1.4950e+00, -7.5678e-02,\n",
            "        -6.3798e-01,  8.8573e-01, -9.7112e-01,  1.4632e-01,  4.0181e-02,\n",
            "         1.0014e-01,  9.6060e-01, -6.3715e-02, -9.9760e-03,  2.5661e-01,\n",
            "        -6.4854e-02,  4.5076e-01,  3.4720e-01, -3.1579e-01, -3.9100e-01,\n",
            "        -3.0810e-01,  4.2714e-01, -4.8122e-01, -1.5107e-01, -5.3317e-02,\n",
            "         9.1385e-01, -4.0473e-01, -7.7674e-01,  3.5094e-02, -4.5183e-01,\n",
            "        -6.1312e-03, -1.0396e-02, -1.3854e-03,  1.5082e+00,  7.5377e-01,\n",
            "         8.3542e-01, -4.9066e-02,  6.6530e-01,  4.7226e-01, -4.5961e-01,\n",
            "        -2.3919e-01, -7.8517e-01, -5.6233e-01,  4.7796e-01, -1.8198e-01])\n",
            "rose\n",
            "tensor([ 1.0937,  0.8214, -0.1852,  0.0786,  0.4147, -0.6426,  0.4255, -0.4695,\n",
            "        -0.4304, -0.4947, -0.0741, -0.4623, -0.3771, -0.2303,  0.6403, -0.5667,\n",
            "        -0.2091,  0.1569,  0.1502,  0.4576,  1.1152, -0.1295,  0.6497,  1.2699,\n",
            "         0.4033, -0.2435,  0.1815, -0.6812,  0.0251, -0.2500,  0.2702, -0.3044,\n",
            "         0.0668,  0.0367, -0.0932,  1.1323,  1.0154,  0.0239,  0.2471, -0.2042,\n",
            "         0.0470, -1.1112, -0.2564, -0.3373,  0.3545,  0.6022, -0.6253,  0.4094,\n",
            "         0.5817, -1.9538,  0.0367, -0.2600,  0.5758,  1.3510, -0.3376, -1.7692,\n",
            "        -0.7869,  0.1131,  1.3780,  0.7508,  0.4910, -0.2592, -0.7883,  0.1579,\n",
            "        -0.9344, -0.0443,  0.5513,  0.4390,  1.4439,  0.5425, -0.2027,  0.2897,\n",
            "        -0.4371,  0.1773, -0.3873,  0.3120, -0.0888,  0.3427, -0.6611,  0.1731,\n",
            "         0.2724,  0.6642, -0.2498, -0.4517, -0.4424, -0.7880,  0.3900, -0.6051,\n",
            "         1.1775,  0.6952,  0.3008, -0.0824, -0.4513,  0.4200, -1.2335,  0.4458,\n",
            "         0.1206, -0.3677,  0.1822,  0.3347])\n",
            "over\n",
            "tensor([-2.9574e-01,  3.5345e-01,  6.3326e-01,  1.9576e-01, -3.0256e-02,\n",
            "         5.4244e-01, -2.1091e-01,  3.2894e-01, -4.8888e-01,  1.8379e-01,\n",
            "         2.4242e-01,  4.0346e-01,  1.1973e-01,  1.3143e-02,  2.4154e-01,\n",
            "        -4.0184e-01,  2.2176e-01, -2.7837e-01, -4.6930e-01, -5.4899e-02,\n",
            "         6.5148e-01,  1.5958e-01,  5.9556e-01,  3.3167e-01,  7.2649e-01,\n",
            "        -4.3182e-01,  1.7208e-01, -1.1584e-02, -2.6389e-01, -2.2073e-01,\n",
            "        -2.8538e-01,  3.5863e-01,  2.4592e-01,  2.2143e-01, -7.6221e-01,\n",
            "         3.9352e-01, -2.3915e-02,  4.3028e-01, -4.7099e-01,  2.5162e-01,\n",
            "        -5.9507e-01, -1.0495e+00,  1.7973e-01, -3.1621e-01,  2.3788e-01,\n",
            "        -8.8560e-02,  3.4751e-01, -5.5950e-01,  1.2997e-01, -7.0101e-01,\n",
            "         2.8850e-01,  1.8111e-01, -2.3004e-01,  2.0682e+00, -1.4925e-01,\n",
            "        -2.8700e+00, -4.6722e-03, -2.2819e-01,  1.6623e+00,  6.5951e-01,\n",
            "         2.1892e-01,  6.3600e-01,  1.0332e-01,  1.3176e-03,  4.4414e-01,\n",
            "         2.0222e-01,  5.2490e-01,  6.4131e-01,  2.7416e-01,  1.0695e-01,\n",
            "        -1.2030e-01,  4.7109e-02, -5.3503e-01, -4.6869e-01, -7.6050e-02,\n",
            "         1.0654e-03, -3.8456e-01, -2.4067e-02, -7.5877e-01,  5.2622e-01,\n",
            "         1.3285e+00, -3.9051e-01, -1.2174e-01,  5.1886e-01, -1.0374e+00,\n",
            "        -3.3789e-01,  7.4933e-02,  2.0036e-01,  2.4703e-02, -2.9090e-01,\n",
            "        -3.2043e-01,  2.0445e-02, -9.9185e-01,  1.6802e-02, -6.0819e-01,\n",
            "        -2.6601e-01, -1.9549e-01,  2.3127e-01,  9.4771e-01, -9.5560e-02])\n",
            "the\n",
            "tensor([-0.0382, -0.2449,  0.7281, -0.3996,  0.0832,  0.0440, -0.3914,  0.3344,\n",
            "        -0.5755,  0.0875,  0.2879, -0.0673,  0.3091, -0.2638, -0.1323, -0.2076,\n",
            "         0.3340, -0.3385, -0.3174, -0.4834,  0.1464, -0.3730,  0.3458,  0.0520,\n",
            "         0.4495, -0.4697,  0.0263, -0.5415, -0.1552, -0.1411, -0.0397,  0.2828,\n",
            "         0.1439,  0.2346, -0.3102,  0.0862,  0.2040,  0.5262,  0.1716, -0.0824,\n",
            "        -0.7179, -0.4153,  0.2033, -0.1276,  0.4137,  0.5519,  0.5791, -0.3348,\n",
            "        -0.3656, -0.5486, -0.0629,  0.2658,  0.3020,  0.9977, -0.8048, -3.0243,\n",
            "         0.0125, -0.3694,  2.2167,  0.7220, -0.2498,  0.9214,  0.0345,  0.4674,\n",
            "         1.1079, -0.1936, -0.0746,  0.2335, -0.0521, -0.2204,  0.0572, -0.1581,\n",
            "        -0.3080, -0.4162,  0.3797,  0.1501, -0.5321, -0.2055, -1.2526,  0.0716,\n",
            "         0.7056,  0.4974, -0.4206,  0.2615, -1.5380, -0.3022, -0.0734, -0.2831,\n",
            "         0.3710, -0.2522,  0.0162, -0.0171, -0.3898,  0.8742, -0.7257, -0.5106,\n",
            "        -0.5203, -0.1459,  0.8278,  0.2706])\n",
            "horizon\n",
            "tensor([ 3.1057e-01,  6.1058e-01,  3.6676e-01,  4.0044e-02,  5.4457e-01,\n",
            "        -1.1620e+00,  5.3447e-01,  3.6583e-02, -1.2390e-01,  4.2944e-01,\n",
            "         6.5318e-01,  1.9191e-01,  6.6550e-01, -7.4539e-01,  2.0903e-01,\n",
            "        -8.2413e-01, -3.8478e-01,  5.0065e-01,  6.4897e-01,  5.9643e-02,\n",
            "        -2.4906e-01,  3.6082e-01, -5.7340e-02, -4.8411e-01, -9.9211e-02,\n",
            "         8.8872e-01, -3.2350e-01,  3.8660e-01, -3.8424e-01, -2.3444e-01,\n",
            "         4.0454e-01, -3.8122e-01,  3.0229e-02,  5.4017e-03, -5.0932e-01,\n",
            "         3.5258e-02, -2.8628e-01,  2.3972e-01,  2.2347e-01, -9.5202e-02,\n",
            "        -3.9811e-01, -3.5588e-01, -5.8595e-01,  1.4514e-01, -1.7199e-01,\n",
            "         3.0276e-01,  4.1992e-01,  5.2972e-01, -2.5491e-01, -1.2168e-01,\n",
            "        -2.4703e-01,  3.4097e-01, -2.3322e-01,  7.2231e-01, -2.6699e-02,\n",
            "        -1.7283e+00,  7.1710e-01, -1.0987e-01,  8.3572e-01,  6.0184e-01,\n",
            "        -1.8356e-01,  8.7237e-01, -4.4241e-01, -4.0328e-01,  7.2439e-01,\n",
            "         5.3453e-01, -2.1171e-01, -5.8056e-01, -2.9741e-01, -2.1713e-01,\n",
            "        -9.5469e-03,  2.8197e-01,  5.7988e-01, -5.5579e-01, -2.5731e-01,\n",
            "        -5.5585e-01,  1.2933e+00, -1.9178e-01, -6.5598e-01, -3.9357e-01,\n",
            "         7.7972e-04, -4.9613e-01, -5.7598e-02,  1.9505e-01,  2.6491e-01,\n",
            "        -5.3976e-01,  2.8244e-01, -6.7638e-02,  9.1352e-01, -7.1630e-02,\n",
            "         2.0627e-01,  5.6269e-01, -2.5461e-01, -2.2837e-01,  6.4967e-04,\n",
            "         6.6551e-01, -1.4424e-01,  5.3120e-01, -2.3653e-01,  1.4714e-01])\n",
            ".\n",
            "tensor([-0.3398,  0.2094,  0.4635, -0.6479, -0.3838,  0.0380,  0.1713,  0.1598,\n",
            "         0.4662, -0.0192,  0.4148, -0.3435,  0.2687,  0.0446,  0.4213, -0.4103,\n",
            "         0.1546,  0.0222, -0.6465,  0.2526,  0.0431, -0.1945,  0.4652,  0.4565,\n",
            "         0.6859,  0.0913,  0.2188, -0.7035,  0.1679, -0.3508, -0.1263,  0.6638,\n",
            "        -0.2582,  0.0365, -0.1361,  0.4025,  0.1429,  0.3813, -0.1228, -0.4589,\n",
            "        -0.2528, -0.3043, -0.1121, -0.2618, -0.2248, -0.4455,  0.2991, -0.8561,\n",
            "        -0.1450, -0.4909,  0.0083, -0.1749,  0.2752,  1.4401, -0.2124, -2.8435,\n",
            "        -0.2796, -0.4572,  1.6386,  0.7881, -0.5526,  0.6500,  0.0864,  0.3901,\n",
            "         1.0632, -0.3538,  0.4833,  0.3460,  0.8417,  0.0987, -0.2421, -0.2705,\n",
            "         0.0453, -0.4015,  0.1139,  0.0062,  0.0367,  0.0185, -1.0213, -0.2081,\n",
            "         0.6407, -0.0688, -0.5864,  0.3348, -1.1432, -0.1148, -0.2509, -0.4591,\n",
            "        -0.0968, -0.1795, -0.0634, -0.6741, -0.0689,  0.5360, -0.8777,  0.3180,\n",
            "        -0.3924, -0.2339,  0.4730, -0.0288])\n"
          ]
        }
      ],
      "source": [
        "print(\"Embedded tokens for Sentence 1:\")\n",
        "for token in sentence1:\n",
        "    print(colored(token.text, 'blue', attrs=['bold']))\n",
        "    print(token.embedding)\n",
        "\n",
        "print(\"\\nEmbedded tokens for Sentence 2:\")\n",
        "for token in sentence2:\n",
        "    print(colored(token.text, 'green', attrs=['bold']))\n",
        "    print(token.embedding)"
      ]
    },
    {
      "cell_type": "code",
      "execution_count": null,
      "metadata": {
        "colab": {
          "base_uri": "https://localhost:8080/"
        },
        "id": "UMACDzFP01Ie",
        "outputId": "c53bbd56-2b34-45c4-8de2-491e65e44cc4"
      },
      "outputs": [
        {
          "name": "stdout",
          "output_type": "stream",
          "text": [
            "\n",
            "Similarity between the embeddings of the word 'rose': 0.5018290281295776\n"
          ]
        }
      ],
      "source": [
        "similarity = 1 - spatial.distance.cosine(sentence1[5].embedding, sentence2[5].embedding)\n",
        "print(f\"\\nSimilarity between the embeddings of the word 'rose': {similarity}\")\n"
      ]
    }
  ],
  "metadata": {
    "colab": {
      "provenance": [],
      "authorship_tag": "ABX9TyP17JTsSFHanvAxOLkihoSG",
      "include_colab_link": true
    },
    "kernelspec": {
      "display_name": "Python 3",
      "name": "python3"
    },
    "language_info": {
      "name": "python"
    }
  },
  "nbformat": 4,
  "nbformat_minor": 0
}