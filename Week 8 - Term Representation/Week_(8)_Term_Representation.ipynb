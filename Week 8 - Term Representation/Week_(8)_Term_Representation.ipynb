{
  "nbformat": 4,
  "nbformat_minor": 0,
  "metadata": {
    "colab": {
      "provenance": [],
      "include_colab_link": true
    },
    "kernelspec": {
      "name": "python3",
      "display_name": "Python 3"
    },
    "language_info": {
      "name": "python"
    }
  },
  "cells": [
    {
      "cell_type": "markdown",
      "metadata": {
        "id": "view-in-github",
        "colab_type": "text"
      },
      "source": [
        "<a href=\"https://colab.research.google.com/github/Bosy-Ayman/IR/blob/main/Week_(8)_Term_Representation.ipynb\" target=\"_parent\"><img src=\"https://colab.research.google.com/assets/colab-badge.svg\" alt=\"Open In Colab\"/></a>"
      ]
    },
    {
      "cell_type": "markdown",
      "source": [
        "# UST Zewail City\n",
        "# DSAI 201\n",
        "# Term Representation"
      ],
      "metadata": {
        "id": "B2aiyyRyEtrm"
      }
    },
    {
      "cell_type": "code",
      "source": [
        "from gensim.models import Word2Vec\n",
        "from gensim.models import KeyedVectors"
      ],
      "metadata": {
        "id": "8dUP3zQz6jlP"
      },
      "execution_count": 1,
      "outputs": []
    },
    {
      "cell_type": "code",
      "source": [
        "collection = [[\"king\", \"is\", \"to\", \"queen\", \"as\", \"man\", \"is\", \"to\", \"woman\"],\n",
        "    [\"london\", \"is\", \"the\", \"capital\", \"of\", \"egland\"],\n",
        "    [\"paris\", \"is\", \"the\", \"capital\", \"of\", \"france\"]]"
      ],
      "metadata": {
        "id": "VLXnXXuE-9kv"
      },
      "execution_count": 2,
      "outputs": []
    },
    {
      "cell_type": "code",
      "source": [
        "model = Word2Vec(collection, vector_size=100, min_count = 1)"
      ],
      "metadata": {
        "id": "FQX-jFEe6now"
      },
      "execution_count": 3,
      "outputs": []
    },
    {
      "cell_type": "code",
      "source": [
        "# Get word vectors\n",
        "king_vector = model.wv['king']\n",
        "queen_vector = model.wv['queen']\n",
        "paris_vector = model.wv['paris']"
      ],
      "metadata": {
        "id": "gy1kwjVEDMSt"
      },
      "execution_count": 4,
      "outputs": []
    },
    {
      "cell_type": "code",
      "source": [
        "print(king_vector)"
      ],
      "metadata": {
        "colab": {
          "base_uri": "https://localhost:8080/"
        },
        "id": "L_UFQ-wPEAiS",
        "outputId": "d5ef6f75-e405-4099-a507-a6bc2e5ecca6"
      },
      "execution_count": 5,
      "outputs": [
        {
          "output_type": "stream",
          "name": "stdout",
          "text": [
            "[-0.00950306  0.00956055 -0.00777455 -0.00264252 -0.00490766 -0.00496986\n",
            " -0.00802599 -0.00778233 -0.00455478 -0.00127695 -0.00510285  0.00614005\n",
            " -0.00951816 -0.0053072   0.00943691  0.00699534  0.00767809  0.00423126\n",
            "  0.00050959 -0.00598436  0.00601966  0.00263701  0.00769819  0.00639364\n",
            "  0.00794651  0.00865659 -0.0098997  -0.00675275  0.00133686  0.00643909\n",
            "  0.00737788  0.00551919  0.00766406 -0.00512244  0.00658175 -0.00410672\n",
            " -0.00905543  0.0091442   0.0013322  -0.0027582  -0.00247633 -0.0042185\n",
            "  0.00481155  0.00439886 -0.00265379 -0.0073416  -0.00356747 -0.00033428\n",
            "  0.00609811 -0.00283458 -0.0001199   0.00088298 -0.00709688  0.00206836\n",
            " -0.00143111  0.00279928  0.00484116 -0.00135312 -0.0027785   0.00773906\n",
            "  0.00504498  0.00671723  0.00451972  0.00866737  0.00747368 -0.00108383\n",
            "  0.0087466   0.00459841  0.0054417  -0.00138787 -0.00204053 -0.00442258\n",
            " -0.00851761  0.00303427  0.00888466  0.00891799 -0.00194157  0.00608527\n",
            "  0.00378286 -0.00429613  0.00204451 -0.00543948  0.00820902  0.00543643\n",
            "  0.00318529  0.00410068  0.00865493  0.00727322 -0.00083103 -0.00707129\n",
            "  0.00837778  0.00723764  0.00173222 -0.0013447  -0.00588686 -0.00453638\n",
            "  0.00864528 -0.00313313 -0.00633577  0.00987241]\n"
          ]
        }
      ]
    },
    {
      "cell_type": "code",
      "source": [
        "# Find similar words\n",
        "similar_to_king = model.wv.most_similar(positive=['king'], topn=3)\n",
        "similar_to_paris = model.wv.most_similar(positive=['paris'], topn=3)\n",
        "\n",
        "# Print results\n",
        "print(\"Words similar to king:\", similar_to_king)\n",
        "print(\"Words similar to Paris:\", similar_to_paris)"
      ],
      "metadata": {
        "colab": {
          "base_uri": "https://localhost:8080/"
        },
        "id": "OA8wBH1ADc3V",
        "outputId": "ef6e8501-c97f-41f9-e935-f71e5e85c600"
      },
      "execution_count": 6,
      "outputs": [
        {
          "output_type": "stream",
          "name": "stdout",
          "text": [
            "Words similar to king: [('to', 0.25285014510154724), ('of', 0.1372225135564804), ('france', 0.04404586926102638)]\n",
            "Words similar to Paris: [('capital', 0.14593380689620972), ('man', 0.05048326402902603), ('the', 0.04167982563376427)]\n"
          ]
        }
      ]
    },
    {
      "cell_type": "code",
      "source": [
        "# Calculate word similarity (cosine similarity)\n",
        "king_queen_sim = model.wv.similarity('king', 'queen')\n",
        "paris_london_sim = model.wv.similarity('paris', 'london')\n",
        "print(\"Similarity between king and queen:\", king_queen_sim)\n",
        "print(\"Similarity between Paris and London:\", paris_london_sim)\n"
      ],
      "metadata": {
        "colab": {
          "base_uri": "https://localhost:8080/"
        },
        "id": "T91GW62qDvLu",
        "outputId": "a276eb93-a5d8-42f6-fc3c-cb852960c3ec"
      },
      "execution_count": 7,
      "outputs": [
        {
          "output_type": "stream",
          "name": "stdout",
          "text": [
            "Similarity between king and queen: -0.076410025\n",
            "Similarity between Paris and London: 0.008817988\n"
          ]
        }
      ]
    },
    {
      "cell_type": "code",
      "source": [
        "model.wv.most_similar('king')"
      ],
      "metadata": {
        "colab": {
          "base_uri": "https://localhost:8080/"
        },
        "id": "AtK4-P-u_JrA",
        "outputId": "fb871ebd-5c26-43fa-abe1-452bc68e0320"
      },
      "execution_count": 8,
      "outputs": [
        {
          "output_type": "execute_result",
          "data": {
            "text/plain": [
              "[('to', 0.25285014510154724),\n",
              " ('of', 0.1372225135564804),\n",
              " ('france', 0.04404586926102638),\n",
              " ('paris', 0.012902338989078999),\n",
              " ('the', 0.006779309827834368),\n",
              " ('man', -0.001192279625684023),\n",
              " ('egland', -0.025496706366539),\n",
              " ('is', -0.04117467626929283),\n",
              " ('queen', -0.07641002535820007),\n",
              " ('woman', -0.10560528188943863)]"
            ]
          },
          "metadata": {},
          "execution_count": 8
        }
      ]
    },
    {
      "cell_type": "markdown",
      "source": [
        "# **Results are not so convecing due to poor training data.**"
      ],
      "metadata": {
        "id": "t54LU9xFEbF8"
      }
    }
  ]
}